{
  "nbformat": 4,
  "nbformat_minor": 0,
  "metadata": {
    "colab": {
      "provenance": [],
      "authorship_tag": "ABX9TyPhCD8yL0Ie7ieho78X+3SO",
      "include_colab_link": true
    },
    "kernelspec": {
      "name": "python3",
      "display_name": "Python 3"
    },
    "language_info": {
      "name": "python"
    }
  },
  "cells": [
    {
      "cell_type": "markdown",
      "metadata": {
        "id": "view-in-github",
        "colab_type": "text"
      },
      "source": [
        "<a href=\"https://colab.research.google.com/github/ghonaimy/project-/blob/main/ANN.ipynb\" target=\"_parent\"><img src=\"https://colab.research.google.com/assets/colab-badge.svg\" alt=\"Open In Colab\"/></a>"
      ]
    },
    {
      "cell_type": "code",
      "execution_count": 1,
      "metadata": {
        "id": "uWV2DUpDA8-D"
      },
      "outputs": [],
      "source": [
        "import numpy as np # linear algebra\n",
        "import pandas as pd # data processing, CSV file I/O (e.g. pd.read_csv)\n",
        "import os\n",
        "for dirname, _, filenames in os.walk('/kaggle/input'):\n",
        "    for filename in filenames:\n",
        "        print(os.path.join(dirname, filename))\n",
        "        "
      ]
    },
    {
      "cell_type": "code",
      "source": [
        "\n",
        "import matplotlib.pyplot as plt\n",
        "%matplotlib inline\n",
        "\n",
        "import math\n",
        "from keras.models import Sequential\n",
        "from keras.layers import Dense\n",
        "from keras.layers import LSTM\n",
        "from sklearn.preprocessing import MinMaxScaler\n",
        "from sklearn.metrics import mean_squared_error\n",
        "from sklearn.metrics import mean_absolute_error\n",
        "\n",
        "from IPython.display import SVG\n",
        "from keras.utils.vis_utils import model_to_dot\n",
        "\n",
        "import itertools\n",
        "import warnings\n",
        "warnings.filterwarnings('ignore')"
      ],
      "metadata": {
        "id": "yKBRtODBIxrx"
      },
      "execution_count": 8,
      "outputs": []
    },
    {
      "cell_type": "code",
      "source": [
        "from sklearn.impute import SimpleImputer\n",
        "%matplotlib inline"
      ],
      "metadata": {
        "id": "YKMjYfEuJ13c"
      },
      "execution_count": 13,
      "outputs": []
    },
    {
      "cell_type": "code",
      "source": [
        "import tensorflow as tf\n",
        "import matplotlib.pyplot as plt\n",
        "import seaborn as sns\n",
        "\n",
        "import pandas as pd\n",
        "import numpy as np\n",
        "import matplotlib.pyplot as plt\n",
        "import seaborn as sns\n",
        "\n",
        "%matplotlib inline\n",
        "plt.style.use('fivethirtyeight')\n",
        "sns.set_style('whitegrid')\n",
        "\n",
        "df= pd.read_csv(r'https://github.com/ghonaimy/project-/raw/main/Walmart%20(1)%20(1).csv')\n",
        "\n",
        "df.head()\n"
      ],
      "metadata": {
        "colab": {
          "base_uri": "https://localhost:8080/",
          "height": 206
        },
        "id": "GdJnZoL8Ft6r",
        "outputId": "0c467c44-9d86-4d48-adce-0f57f954604f"
      },
      "execution_count": 3,
      "outputs": [
        {
          "output_type": "execute_result",
          "data": {
            "text/plain": [
              "   Store        Date  Weekly_Sales  Holiday_Flag  Temperature  Fuel_Price  \\\n",
              "0      1  05/02/2010    1643690.90             0        42.31       2.572   \n",
              "1      1  12/02/2010    1641957.44             1        38.51       2.548   \n",
              "2      1  19/02/2010    1611968.17             0        39.93       2.514   \n",
              "3      1  26/02/2010    1409727.59             0        46.63       2.561   \n",
              "4      1  05/03/2010    1554806.68             0        46.50       2.625   \n",
              "\n",
              "          CPI  Unemployment  Linear trend   Unnamed: 9  Unnamed: 10  \\\n",
              "0  211.096358         8.106     1497908.58         NaN          NaN   \n",
              "1  211.242170         8.106     1498716.41         NaN          NaN   \n",
              "2  211.289143         8.106     1499524.24         NaN          NaN   \n",
              "3  211.319643         8.106     1500332.07         NaN          NaN   \n",
              "4  211.350143         8.106     1501139.90         NaN          NaN   \n",
              "\n",
              "  Unnamed: 11  \n",
              "0         NaN  \n",
              "1         NaN  \n",
              "2         NaN  \n",
              "3         NaN  \n",
              "4         NaN  "
            ],
            "text/html": [
              "\n",
              "  <div id=\"df-aa82105c-54fd-41ac-83e8-1d0c8794c778\">\n",
              "    <div class=\"colab-df-container\">\n",
              "      <div>\n",
              "<style scoped>\n",
              "    .dataframe tbody tr th:only-of-type {\n",
              "        vertical-align: middle;\n",
              "    }\n",
              "\n",
              "    .dataframe tbody tr th {\n",
              "        vertical-align: top;\n",
              "    }\n",
              "\n",
              "    .dataframe thead th {\n",
              "        text-align: right;\n",
              "    }\n",
              "</style>\n",
              "<table border=\"1\" class=\"dataframe\">\n",
              "  <thead>\n",
              "    <tr style=\"text-align: right;\">\n",
              "      <th></th>\n",
              "      <th>Store</th>\n",
              "      <th>Date</th>\n",
              "      <th>Weekly_Sales</th>\n",
              "      <th>Holiday_Flag</th>\n",
              "      <th>Temperature</th>\n",
              "      <th>Fuel_Price</th>\n",
              "      <th>CPI</th>\n",
              "      <th>Unemployment</th>\n",
              "      <th>Linear trend</th>\n",
              "      <th>Unnamed: 9</th>\n",
              "      <th>Unnamed: 10</th>\n",
              "      <th>Unnamed: 11</th>\n",
              "    </tr>\n",
              "  </thead>\n",
              "  <tbody>\n",
              "    <tr>\n",
              "      <th>0</th>\n",
              "      <td>1</td>\n",
              "      <td>05/02/2010</td>\n",
              "      <td>1643690.90</td>\n",
              "      <td>0</td>\n",
              "      <td>42.31</td>\n",
              "      <td>2.572</td>\n",
              "      <td>211.096358</td>\n",
              "      <td>8.106</td>\n",
              "      <td>1497908.58</td>\n",
              "      <td>NaN</td>\n",
              "      <td>NaN</td>\n",
              "      <td>NaN</td>\n",
              "    </tr>\n",
              "    <tr>\n",
              "      <th>1</th>\n",
              "      <td>1</td>\n",
              "      <td>12/02/2010</td>\n",
              "      <td>1641957.44</td>\n",
              "      <td>1</td>\n",
              "      <td>38.51</td>\n",
              "      <td>2.548</td>\n",
              "      <td>211.242170</td>\n",
              "      <td>8.106</td>\n",
              "      <td>1498716.41</td>\n",
              "      <td>NaN</td>\n",
              "      <td>NaN</td>\n",
              "      <td>NaN</td>\n",
              "    </tr>\n",
              "    <tr>\n",
              "      <th>2</th>\n",
              "      <td>1</td>\n",
              "      <td>19/02/2010</td>\n",
              "      <td>1611968.17</td>\n",
              "      <td>0</td>\n",
              "      <td>39.93</td>\n",
              "      <td>2.514</td>\n",
              "      <td>211.289143</td>\n",
              "      <td>8.106</td>\n",
              "      <td>1499524.24</td>\n",
              "      <td>NaN</td>\n",
              "      <td>NaN</td>\n",
              "      <td>NaN</td>\n",
              "    </tr>\n",
              "    <tr>\n",
              "      <th>3</th>\n",
              "      <td>1</td>\n",
              "      <td>26/02/2010</td>\n",
              "      <td>1409727.59</td>\n",
              "      <td>0</td>\n",
              "      <td>46.63</td>\n",
              "      <td>2.561</td>\n",
              "      <td>211.319643</td>\n",
              "      <td>8.106</td>\n",
              "      <td>1500332.07</td>\n",
              "      <td>NaN</td>\n",
              "      <td>NaN</td>\n",
              "      <td>NaN</td>\n",
              "    </tr>\n",
              "    <tr>\n",
              "      <th>4</th>\n",
              "      <td>1</td>\n",
              "      <td>05/03/2010</td>\n",
              "      <td>1554806.68</td>\n",
              "      <td>0</td>\n",
              "      <td>46.50</td>\n",
              "      <td>2.625</td>\n",
              "      <td>211.350143</td>\n",
              "      <td>8.106</td>\n",
              "      <td>1501139.90</td>\n",
              "      <td>NaN</td>\n",
              "      <td>NaN</td>\n",
              "      <td>NaN</td>\n",
              "    </tr>\n",
              "  </tbody>\n",
              "</table>\n",
              "</div>\n",
              "      <button class=\"colab-df-convert\" onclick=\"convertToInteractive('df-aa82105c-54fd-41ac-83e8-1d0c8794c778')\"\n",
              "              title=\"Convert this dataframe to an interactive table.\"\n",
              "              style=\"display:none;\">\n",
              "        \n",
              "  <svg xmlns=\"http://www.w3.org/2000/svg\" height=\"24px\"viewBox=\"0 0 24 24\"\n",
              "       width=\"24px\">\n",
              "    <path d=\"M0 0h24v24H0V0z\" fill=\"none\"/>\n",
              "    <path d=\"M18.56 5.44l.94 2.06.94-2.06 2.06-.94-2.06-.94-.94-2.06-.94 2.06-2.06.94zm-11 1L8.5 8.5l.94-2.06 2.06-.94-2.06-.94L8.5 2.5l-.94 2.06-2.06.94zm10 10l.94 2.06.94-2.06 2.06-.94-2.06-.94-.94-2.06-.94 2.06-2.06.94z\"/><path d=\"M17.41 7.96l-1.37-1.37c-.4-.4-.92-.59-1.43-.59-.52 0-1.04.2-1.43.59L10.3 9.45l-7.72 7.72c-.78.78-.78 2.05 0 2.83L4 21.41c.39.39.9.59 1.41.59.51 0 1.02-.2 1.41-.59l7.78-7.78 2.81-2.81c.8-.78.8-2.07 0-2.86zM5.41 20L4 18.59l7.72-7.72 1.47 1.35L5.41 20z\"/>\n",
              "  </svg>\n",
              "      </button>\n",
              "      \n",
              "  <style>\n",
              "    .colab-df-container {\n",
              "      display:flex;\n",
              "      flex-wrap:wrap;\n",
              "      gap: 12px;\n",
              "    }\n",
              "\n",
              "    .colab-df-convert {\n",
              "      background-color: #E8F0FE;\n",
              "      border: none;\n",
              "      border-radius: 50%;\n",
              "      cursor: pointer;\n",
              "      display: none;\n",
              "      fill: #1967D2;\n",
              "      height: 32px;\n",
              "      padding: 0 0 0 0;\n",
              "      width: 32px;\n",
              "    }\n",
              "\n",
              "    .colab-df-convert:hover {\n",
              "      background-color: #E2EBFA;\n",
              "      box-shadow: 0px 1px 2px rgba(60, 64, 67, 0.3), 0px 1px 3px 1px rgba(60, 64, 67, 0.15);\n",
              "      fill: #174EA6;\n",
              "    }\n",
              "\n",
              "    [theme=dark] .colab-df-convert {\n",
              "      background-color: #3B4455;\n",
              "      fill: #D2E3FC;\n",
              "    }\n",
              "\n",
              "    [theme=dark] .colab-df-convert:hover {\n",
              "      background-color: #434B5C;\n",
              "      box-shadow: 0px 1px 3px 1px rgba(0, 0, 0, 0.15);\n",
              "      filter: drop-shadow(0px 1px 2px rgba(0, 0, 0, 0.3));\n",
              "      fill: #FFFFFF;\n",
              "    }\n",
              "  </style>\n",
              "\n",
              "      <script>\n",
              "        const buttonEl =\n",
              "          document.querySelector('#df-aa82105c-54fd-41ac-83e8-1d0c8794c778 button.colab-df-convert');\n",
              "        buttonEl.style.display =\n",
              "          google.colab.kernel.accessAllowed ? 'block' : 'none';\n",
              "\n",
              "        async function convertToInteractive(key) {\n",
              "          const element = document.querySelector('#df-aa82105c-54fd-41ac-83e8-1d0c8794c778');\n",
              "          const dataTable =\n",
              "            await google.colab.kernel.invokeFunction('convertToInteractive',\n",
              "                                                     [key], {});\n",
              "          if (!dataTable) return;\n",
              "\n",
              "          const docLinkHtml = 'Like what you see? Visit the ' +\n",
              "            '<a target=\"_blank\" href=https://colab.research.google.com/notebooks/data_table.ipynb>data table notebook</a>'\n",
              "            + ' to learn more about interactive tables.';\n",
              "          element.innerHTML = '';\n",
              "          dataTable['output_type'] = 'display_data';\n",
              "          await google.colab.output.renderOutput(dataTable, element);\n",
              "          const docLink = document.createElement('div');\n",
              "          docLink.innerHTML = docLinkHtml;\n",
              "          element.appendChild(docLink);\n",
              "        }\n",
              "      </script>\n",
              "    </div>\n",
              "  </div>\n",
              "  "
            ]
          },
          "metadata": {},
          "execution_count": 3
        }
      ]
    },
    {
      "cell_type": "code",
      "source": [
        "df.drop(['Unnamed: 9'], axis=\"columns\", inplace=True)\n",
        "df.drop(['Unnamed: 10'], axis=\"columns\", inplace=True)\n",
        "df.drop(['Unnamed: 11'], axis=\"columns\", inplace=True)\n"
      ],
      "metadata": {
        "id": "CTFIGzQsGAQx"
      },
      "execution_count": 4,
      "outputs": []
    },
    {
      "cell_type": "code",
      "source": [
        "df.head()"
      ],
      "metadata": {
        "colab": {
          "base_uri": "https://localhost:8080/",
          "height": 206
        },
        "id": "x3I_jcSkGDbO",
        "outputId": "8e73def0-8309-424c-dde0-07b11353b14f"
      },
      "execution_count": 5,
      "outputs": [
        {
          "output_type": "execute_result",
          "data": {
            "text/plain": [
              "   Store        Date  Weekly_Sales  Holiday_Flag  Temperature  Fuel_Price  \\\n",
              "0      1  05/02/2010    1643690.90             0        42.31       2.572   \n",
              "1      1  12/02/2010    1641957.44             1        38.51       2.548   \n",
              "2      1  19/02/2010    1611968.17             0        39.93       2.514   \n",
              "3      1  26/02/2010    1409727.59             0        46.63       2.561   \n",
              "4      1  05/03/2010    1554806.68             0        46.50       2.625   \n",
              "\n",
              "          CPI  Unemployment  Linear trend   \n",
              "0  211.096358         8.106     1497908.58  \n",
              "1  211.242170         8.106     1498716.41  \n",
              "2  211.289143         8.106     1499524.24  \n",
              "3  211.319643         8.106     1500332.07  \n",
              "4  211.350143         8.106     1501139.90  "
            ],
            "text/html": [
              "\n",
              "  <div id=\"df-7078b4d7-f7a6-4c04-a08d-6fbc42a04667\">\n",
              "    <div class=\"colab-df-container\">\n",
              "      <div>\n",
              "<style scoped>\n",
              "    .dataframe tbody tr th:only-of-type {\n",
              "        vertical-align: middle;\n",
              "    }\n",
              "\n",
              "    .dataframe tbody tr th {\n",
              "        vertical-align: top;\n",
              "    }\n",
              "\n",
              "    .dataframe thead th {\n",
              "        text-align: right;\n",
              "    }\n",
              "</style>\n",
              "<table border=\"1\" class=\"dataframe\">\n",
              "  <thead>\n",
              "    <tr style=\"text-align: right;\">\n",
              "      <th></th>\n",
              "      <th>Store</th>\n",
              "      <th>Date</th>\n",
              "      <th>Weekly_Sales</th>\n",
              "      <th>Holiday_Flag</th>\n",
              "      <th>Temperature</th>\n",
              "      <th>Fuel_Price</th>\n",
              "      <th>CPI</th>\n",
              "      <th>Unemployment</th>\n",
              "      <th>Linear trend</th>\n",
              "    </tr>\n",
              "  </thead>\n",
              "  <tbody>\n",
              "    <tr>\n",
              "      <th>0</th>\n",
              "      <td>1</td>\n",
              "      <td>05/02/2010</td>\n",
              "      <td>1643690.90</td>\n",
              "      <td>0</td>\n",
              "      <td>42.31</td>\n",
              "      <td>2.572</td>\n",
              "      <td>211.096358</td>\n",
              "      <td>8.106</td>\n",
              "      <td>1497908.58</td>\n",
              "    </tr>\n",
              "    <tr>\n",
              "      <th>1</th>\n",
              "      <td>1</td>\n",
              "      <td>12/02/2010</td>\n",
              "      <td>1641957.44</td>\n",
              "      <td>1</td>\n",
              "      <td>38.51</td>\n",
              "      <td>2.548</td>\n",
              "      <td>211.242170</td>\n",
              "      <td>8.106</td>\n",
              "      <td>1498716.41</td>\n",
              "    </tr>\n",
              "    <tr>\n",
              "      <th>2</th>\n",
              "      <td>1</td>\n",
              "      <td>19/02/2010</td>\n",
              "      <td>1611968.17</td>\n",
              "      <td>0</td>\n",
              "      <td>39.93</td>\n",
              "      <td>2.514</td>\n",
              "      <td>211.289143</td>\n",
              "      <td>8.106</td>\n",
              "      <td>1499524.24</td>\n",
              "    </tr>\n",
              "    <tr>\n",
              "      <th>3</th>\n",
              "      <td>1</td>\n",
              "      <td>26/02/2010</td>\n",
              "      <td>1409727.59</td>\n",
              "      <td>0</td>\n",
              "      <td>46.63</td>\n",
              "      <td>2.561</td>\n",
              "      <td>211.319643</td>\n",
              "      <td>8.106</td>\n",
              "      <td>1500332.07</td>\n",
              "    </tr>\n",
              "    <tr>\n",
              "      <th>4</th>\n",
              "      <td>1</td>\n",
              "      <td>05/03/2010</td>\n",
              "      <td>1554806.68</td>\n",
              "      <td>0</td>\n",
              "      <td>46.50</td>\n",
              "      <td>2.625</td>\n",
              "      <td>211.350143</td>\n",
              "      <td>8.106</td>\n",
              "      <td>1501139.90</td>\n",
              "    </tr>\n",
              "  </tbody>\n",
              "</table>\n",
              "</div>\n",
              "      <button class=\"colab-df-convert\" onclick=\"convertToInteractive('df-7078b4d7-f7a6-4c04-a08d-6fbc42a04667')\"\n",
              "              title=\"Convert this dataframe to an interactive table.\"\n",
              "              style=\"display:none;\">\n",
              "        \n",
              "  <svg xmlns=\"http://www.w3.org/2000/svg\" height=\"24px\"viewBox=\"0 0 24 24\"\n",
              "       width=\"24px\">\n",
              "    <path d=\"M0 0h24v24H0V0z\" fill=\"none\"/>\n",
              "    <path d=\"M18.56 5.44l.94 2.06.94-2.06 2.06-.94-2.06-.94-.94-2.06-.94 2.06-2.06.94zm-11 1L8.5 8.5l.94-2.06 2.06-.94-2.06-.94L8.5 2.5l-.94 2.06-2.06.94zm10 10l.94 2.06.94-2.06 2.06-.94-2.06-.94-.94-2.06-.94 2.06-2.06.94z\"/><path d=\"M17.41 7.96l-1.37-1.37c-.4-.4-.92-.59-1.43-.59-.52 0-1.04.2-1.43.59L10.3 9.45l-7.72 7.72c-.78.78-.78 2.05 0 2.83L4 21.41c.39.39.9.59 1.41.59.51 0 1.02-.2 1.41-.59l7.78-7.78 2.81-2.81c.8-.78.8-2.07 0-2.86zM5.41 20L4 18.59l7.72-7.72 1.47 1.35L5.41 20z\"/>\n",
              "  </svg>\n",
              "      </button>\n",
              "      \n",
              "  <style>\n",
              "    .colab-df-container {\n",
              "      display:flex;\n",
              "      flex-wrap:wrap;\n",
              "      gap: 12px;\n",
              "    }\n",
              "\n",
              "    .colab-df-convert {\n",
              "      background-color: #E8F0FE;\n",
              "      border: none;\n",
              "      border-radius: 50%;\n",
              "      cursor: pointer;\n",
              "      display: none;\n",
              "      fill: #1967D2;\n",
              "      height: 32px;\n",
              "      padding: 0 0 0 0;\n",
              "      width: 32px;\n",
              "    }\n",
              "\n",
              "    .colab-df-convert:hover {\n",
              "      background-color: #E2EBFA;\n",
              "      box-shadow: 0px 1px 2px rgba(60, 64, 67, 0.3), 0px 1px 3px 1px rgba(60, 64, 67, 0.15);\n",
              "      fill: #174EA6;\n",
              "    }\n",
              "\n",
              "    [theme=dark] .colab-df-convert {\n",
              "      background-color: #3B4455;\n",
              "      fill: #D2E3FC;\n",
              "    }\n",
              "\n",
              "    [theme=dark] .colab-df-convert:hover {\n",
              "      background-color: #434B5C;\n",
              "      box-shadow: 0px 1px 3px 1px rgba(0, 0, 0, 0.15);\n",
              "      filter: drop-shadow(0px 1px 2px rgba(0, 0, 0, 0.3));\n",
              "      fill: #FFFFFF;\n",
              "    }\n",
              "  </style>\n",
              "\n",
              "      <script>\n",
              "        const buttonEl =\n",
              "          document.querySelector('#df-7078b4d7-f7a6-4c04-a08d-6fbc42a04667 button.colab-df-convert');\n",
              "        buttonEl.style.display =\n",
              "          google.colab.kernel.accessAllowed ? 'block' : 'none';\n",
              "\n",
              "        async function convertToInteractive(key) {\n",
              "          const element = document.querySelector('#df-7078b4d7-f7a6-4c04-a08d-6fbc42a04667');\n",
              "          const dataTable =\n",
              "            await google.colab.kernel.invokeFunction('convertToInteractive',\n",
              "                                                     [key], {});\n",
              "          if (!dataTable) return;\n",
              "\n",
              "          const docLinkHtml = 'Like what you see? Visit the ' +\n",
              "            '<a target=\"_blank\" href=https://colab.research.google.com/notebooks/data_table.ipynb>data table notebook</a>'\n",
              "            + ' to learn more about interactive tables.';\n",
              "          element.innerHTML = '';\n",
              "          dataTable['output_type'] = 'display_data';\n",
              "          await google.colab.output.renderOutput(dataTable, element);\n",
              "          const docLink = document.createElement('div');\n",
              "          docLink.innerHTML = docLinkHtml;\n",
              "          element.appendChild(docLink);\n",
              "        }\n",
              "      </script>\n",
              "    </div>\n",
              "  </div>\n",
              "  "
            ]
          },
          "metadata": {},
          "execution_count": 5
        }
      ]
    },
    {
      "cell_type": "code",
      "source": [
        "Y = df['Unemployment']\n",
        "X = df.drop(['Unemployment','Date'],axis=1)\n",
        "\n",
        "X.shape, Y.shape"
      ],
      "metadata": {
        "colab": {
          "base_uri": "https://localhost:8080/"
        },
        "id": "btlvRfz-Hurx",
        "outputId": "27f17e4d-7117-46cc-a894-816e91fc5d96"
      },
      "execution_count": 6,
      "outputs": [
        {
          "output_type": "execute_result",
          "data": {
            "text/plain": [
              "((6435, 7), (6435,))"
            ]
          },
          "metadata": {},
          "execution_count": 6
        }
      ]
    },
    {
      "cell_type": "code",
      "source": [
        "from sklearn.model_selection import train_test_split"
      ],
      "metadata": {
        "id": "GGILLyDmJtPC"
      },
      "execution_count": 15,
      "outputs": []
    },
    {
      "cell_type": "code",
      "source": [
        "x_train, x_test, y_train, y_test = train_test_split(X,Y,train_size=0.8, random_state=0)\n",
        "x_train.shape, y_train.shape, x_test.shape, y_test.shape"
      ],
      "metadata": {
        "colab": {
          "base_uri": "https://localhost:8080/"
        },
        "id": "8ZS5cXnQH0bx",
        "outputId": "2bcbfa34-492d-46e7-dffd-5f79c44eb046"
      },
      "execution_count": 16,
      "outputs": [
        {
          "output_type": "execute_result",
          "data": {
            "text/plain": [
              "((5148, 7), (5148,), (1287, 7), (1287,))"
            ]
          },
          "metadata": {},
          "execution_count": 16
        }
      ]
    },
    {
      "cell_type": "code",
      "source": [
        "from sklearn.preprocessing import StandardScaler\n",
        "\n",
        "sc = StandardScaler()\n",
        "\n",
        "x_train = sc.fit_transform(x_train)\n",
        "x_test = sc.transform(x_test)\n",
        "\n",
        "x_train.shape, x_test.shape"
      ],
      "metadata": {
        "colab": {
          "base_uri": "https://localhost:8080/"
        },
        "id": "sVHw7QAzJLmq",
        "outputId": "0f40d006-4c6a-488b-e430-c3565a6e60b4"
      },
      "execution_count": 17,
      "outputs": [
        {
          "output_type": "execute_result",
          "data": {
            "text/plain": [
              "((5148, 7), (1287, 7))"
            ]
          },
          "metadata": {},
          "execution_count": 17
        }
      ]
    },
    {
      "cell_type": "code",
      "source": [
        "tf.random.set_seed(42)\n",
        "\n",
        "base_model = tf.keras.Sequential([\n",
        "    tf.keras.layers.Input(shape=x_test.shape[1]),\n",
        "    tf.keras.layers.Dense(64,activation=\"relu\"),\n",
        "    tf.keras.layers.Dense(1, activation=\"linear\")\n",
        "])"
      ],
      "metadata": {
        "id": "E7sBgnK7JLj9"
      },
      "execution_count": 18,
      "outputs": []
    },
    {
      "cell_type": "code",
      "source": [
        "base_model.compile(loss=\"mae\",\n",
        "               optimizer=tf.keras.optimizers.Adam(),\n",
        "                   metrics=[\"mean_absolute_error\"])"
      ],
      "metadata": {
        "id": "muY0DLyTKG-S"
      },
      "execution_count": 19,
      "outputs": []
    },
    {
      "cell_type": "code",
      "source": [
        "base_model.fit(x_train,y_train, epochs=100,validation_split=0.2, verbose=1)\n"
      ],
      "metadata": {
        "colab": {
          "base_uri": "https://localhost:8080/"
        },
        "id": "3idctDvLKPCN",
        "outputId": "70b661dc-6407-4b3a-8933-368d07850c21"
      },
      "execution_count": 20,
      "outputs": [
        {
          "output_type": "stream",
          "name": "stdout",
          "text": [
            "Epoch 1/100\n",
            "129/129 [==============================] - 1s 4ms/step - loss: 6.3416 - mean_absolute_error: 6.3416 - val_loss: 4.3196 - val_mean_absolute_error: 4.3196\n",
            "Epoch 2/100\n",
            "129/129 [==============================] - 0s 3ms/step - loss: 2.6739 - mean_absolute_error: 2.6739 - val_loss: 1.7360 - val_mean_absolute_error: 1.7360\n",
            "Epoch 3/100\n",
            "129/129 [==============================] - 0s 3ms/step - loss: 1.4588 - mean_absolute_error: 1.4588 - val_loss: 1.4286 - val_mean_absolute_error: 1.4286\n",
            "Epoch 4/100\n",
            "129/129 [==============================] - 0s 3ms/step - loss: 1.3189 - mean_absolute_error: 1.3189 - val_loss: 1.3402 - val_mean_absolute_error: 1.3402\n",
            "Epoch 5/100\n",
            "129/129 [==============================] - 0s 3ms/step - loss: 1.2556 - mean_absolute_error: 1.2556 - val_loss: 1.2869 - val_mean_absolute_error: 1.2869\n",
            "Epoch 6/100\n",
            "129/129 [==============================] - 0s 3ms/step - loss: 1.2035 - mean_absolute_error: 1.2035 - val_loss: 1.2361 - val_mean_absolute_error: 1.2361\n",
            "Epoch 7/100\n",
            "129/129 [==============================] - 0s 4ms/step - loss: 1.1636 - mean_absolute_error: 1.1636 - val_loss: 1.1957 - val_mean_absolute_error: 1.1957\n",
            "Epoch 8/100\n",
            "129/129 [==============================] - 1s 4ms/step - loss: 1.1273 - mean_absolute_error: 1.1273 - val_loss: 1.1655 - val_mean_absolute_error: 1.1655\n",
            "Epoch 9/100\n",
            "129/129 [==============================] - 0s 2ms/step - loss: 1.0972 - mean_absolute_error: 1.0972 - val_loss: 1.1443 - val_mean_absolute_error: 1.1443\n",
            "Epoch 10/100\n",
            "129/129 [==============================] - 0s 2ms/step - loss: 1.0708 - mean_absolute_error: 1.0708 - val_loss: 1.1116 - val_mean_absolute_error: 1.1116\n",
            "Epoch 11/100\n",
            "129/129 [==============================] - 0s 2ms/step - loss: 1.0501 - mean_absolute_error: 1.0501 - val_loss: 1.0953 - val_mean_absolute_error: 1.0953\n",
            "Epoch 12/100\n",
            "129/129 [==============================] - 0s 2ms/step - loss: 1.0300 - mean_absolute_error: 1.0300 - val_loss: 1.0778 - val_mean_absolute_error: 1.0778\n",
            "Epoch 13/100\n",
            "129/129 [==============================] - 0s 2ms/step - loss: 1.0156 - mean_absolute_error: 1.0156 - val_loss: 1.0649 - val_mean_absolute_error: 1.0649\n",
            "Epoch 14/100\n",
            "129/129 [==============================] - 0s 3ms/step - loss: 1.0005 - mean_absolute_error: 1.0005 - val_loss: 1.0502 - val_mean_absolute_error: 1.0502\n",
            "Epoch 15/100\n",
            "129/129 [==============================] - 0s 2ms/step - loss: 0.9860 - mean_absolute_error: 0.9860 - val_loss: 1.0364 - val_mean_absolute_error: 1.0364\n",
            "Epoch 16/100\n",
            "129/129 [==============================] - 0s 2ms/step - loss: 0.9743 - mean_absolute_error: 0.9743 - val_loss: 1.0220 - val_mean_absolute_error: 1.0220\n",
            "Epoch 17/100\n",
            "129/129 [==============================] - 0s 3ms/step - loss: 0.9623 - mean_absolute_error: 0.9623 - val_loss: 1.0119 - val_mean_absolute_error: 1.0119\n",
            "Epoch 18/100\n",
            "129/129 [==============================] - 0s 2ms/step - loss: 0.9528 - mean_absolute_error: 0.9528 - val_loss: 1.0032 - val_mean_absolute_error: 1.0032\n",
            "Epoch 19/100\n",
            "129/129 [==============================] - 0s 2ms/step - loss: 0.9472 - mean_absolute_error: 0.9472 - val_loss: 0.9935 - val_mean_absolute_error: 0.9935\n",
            "Epoch 20/100\n",
            "129/129 [==============================] - 0s 2ms/step - loss: 0.9353 - mean_absolute_error: 0.9353 - val_loss: 0.9934 - val_mean_absolute_error: 0.9934\n",
            "Epoch 21/100\n",
            "129/129 [==============================] - 0s 2ms/step - loss: 0.9248 - mean_absolute_error: 0.9248 - val_loss: 0.9789 - val_mean_absolute_error: 0.9789\n",
            "Epoch 22/100\n",
            "129/129 [==============================] - 0s 2ms/step - loss: 0.9184 - mean_absolute_error: 0.9184 - val_loss: 0.9596 - val_mean_absolute_error: 0.9596\n",
            "Epoch 23/100\n",
            "129/129 [==============================] - 0s 2ms/step - loss: 0.9093 - mean_absolute_error: 0.9093 - val_loss: 0.9537 - val_mean_absolute_error: 0.9537\n",
            "Epoch 24/100\n",
            "129/129 [==============================] - 0s 2ms/step - loss: 0.9025 - mean_absolute_error: 0.9025 - val_loss: 0.9530 - val_mean_absolute_error: 0.9530\n",
            "Epoch 25/100\n",
            "129/129 [==============================] - 0s 2ms/step - loss: 0.8933 - mean_absolute_error: 0.8933 - val_loss: 0.9420 - val_mean_absolute_error: 0.9420\n",
            "Epoch 26/100\n",
            "129/129 [==============================] - 0s 2ms/step - loss: 0.8863 - mean_absolute_error: 0.8863 - val_loss: 0.9391 - val_mean_absolute_error: 0.9391\n",
            "Epoch 27/100\n",
            "129/129 [==============================] - 0s 2ms/step - loss: 0.8810 - mean_absolute_error: 0.8810 - val_loss: 0.9253 - val_mean_absolute_error: 0.9253\n",
            "Epoch 28/100\n",
            "129/129 [==============================] - 0s 2ms/step - loss: 0.8739 - mean_absolute_error: 0.8739 - val_loss: 0.9145 - val_mean_absolute_error: 0.9145\n",
            "Epoch 29/100\n",
            "129/129 [==============================] - 0s 2ms/step - loss: 0.8669 - mean_absolute_error: 0.8669 - val_loss: 0.9103 - val_mean_absolute_error: 0.9103\n",
            "Epoch 30/100\n",
            "129/129 [==============================] - 0s 2ms/step - loss: 0.8620 - mean_absolute_error: 0.8620 - val_loss: 0.9058 - val_mean_absolute_error: 0.9058\n",
            "Epoch 31/100\n",
            "129/129 [==============================] - 0s 2ms/step - loss: 0.8554 - mean_absolute_error: 0.8554 - val_loss: 0.9024 - val_mean_absolute_error: 0.9024\n",
            "Epoch 32/100\n",
            "129/129 [==============================] - 0s 2ms/step - loss: 0.8492 - mean_absolute_error: 0.8492 - val_loss: 0.8935 - val_mean_absolute_error: 0.8935\n",
            "Epoch 33/100\n",
            "129/129 [==============================] - 0s 3ms/step - loss: 0.8456 - mean_absolute_error: 0.8456 - val_loss: 0.8922 - val_mean_absolute_error: 0.8922\n",
            "Epoch 34/100\n",
            "129/129 [==============================] - 0s 2ms/step - loss: 0.8410 - mean_absolute_error: 0.8410 - val_loss: 0.8936 - val_mean_absolute_error: 0.8936\n",
            "Epoch 35/100\n",
            "129/129 [==============================] - 0s 3ms/step - loss: 0.8362 - mean_absolute_error: 0.8362 - val_loss: 0.8794 - val_mean_absolute_error: 0.8794\n",
            "Epoch 36/100\n",
            "129/129 [==============================] - 0s 3ms/step - loss: 0.8334 - mean_absolute_error: 0.8334 - val_loss: 0.8768 - val_mean_absolute_error: 0.8768\n",
            "Epoch 37/100\n",
            "129/129 [==============================] - 0s 2ms/step - loss: 0.8259 - mean_absolute_error: 0.8259 - val_loss: 0.8764 - val_mean_absolute_error: 0.8764\n",
            "Epoch 38/100\n",
            "129/129 [==============================] - 0s 2ms/step - loss: 0.8247 - mean_absolute_error: 0.8247 - val_loss: 0.8796 - val_mean_absolute_error: 0.8796\n",
            "Epoch 39/100\n",
            "129/129 [==============================] - 0s 2ms/step - loss: 0.8209 - mean_absolute_error: 0.8209 - val_loss: 0.8673 - val_mean_absolute_error: 0.8673\n",
            "Epoch 40/100\n",
            "129/129 [==============================] - 0s 3ms/step - loss: 0.8182 - mean_absolute_error: 0.8182 - val_loss: 0.8680 - val_mean_absolute_error: 0.8680\n",
            "Epoch 41/100\n",
            "129/129 [==============================] - 0s 3ms/step - loss: 0.8147 - mean_absolute_error: 0.8147 - val_loss: 0.8653 - val_mean_absolute_error: 0.8653\n",
            "Epoch 42/100\n",
            "129/129 [==============================] - 0s 3ms/step - loss: 0.8113 - mean_absolute_error: 0.8113 - val_loss: 0.8554 - val_mean_absolute_error: 0.8554\n",
            "Epoch 43/100\n",
            "129/129 [==============================] - 0s 3ms/step - loss: 0.8075 - mean_absolute_error: 0.8075 - val_loss: 0.8504 - val_mean_absolute_error: 0.8504\n",
            "Epoch 44/100\n",
            "129/129 [==============================] - 0s 3ms/step - loss: 0.8045 - mean_absolute_error: 0.8045 - val_loss: 0.8463 - val_mean_absolute_error: 0.8463\n",
            "Epoch 45/100\n",
            "129/129 [==============================] - 0s 3ms/step - loss: 0.8054 - mean_absolute_error: 0.8054 - val_loss: 0.8481 - val_mean_absolute_error: 0.8481\n",
            "Epoch 46/100\n",
            "129/129 [==============================] - 1s 4ms/step - loss: 0.8015 - mean_absolute_error: 0.8015 - val_loss: 0.8450 - val_mean_absolute_error: 0.8450\n",
            "Epoch 47/100\n",
            "129/129 [==============================] - 0s 2ms/step - loss: 0.7954 - mean_absolute_error: 0.7954 - val_loss: 0.8547 - val_mean_absolute_error: 0.8547\n",
            "Epoch 48/100\n",
            "129/129 [==============================] - 0s 2ms/step - loss: 0.7970 - mean_absolute_error: 0.7970 - val_loss: 0.8411 - val_mean_absolute_error: 0.8411\n",
            "Epoch 49/100\n",
            "129/129 [==============================] - 0s 2ms/step - loss: 0.7908 - mean_absolute_error: 0.7908 - val_loss: 0.8386 - val_mean_absolute_error: 0.8386\n",
            "Epoch 50/100\n",
            "129/129 [==============================] - 0s 2ms/step - loss: 0.7865 - mean_absolute_error: 0.7865 - val_loss: 0.8420 - val_mean_absolute_error: 0.8420\n",
            "Epoch 51/100\n",
            "129/129 [==============================] - 0s 2ms/step - loss: 0.7832 - mean_absolute_error: 0.7832 - val_loss: 0.8301 - val_mean_absolute_error: 0.8301\n",
            "Epoch 52/100\n",
            "129/129 [==============================] - 0s 2ms/step - loss: 0.7815 - mean_absolute_error: 0.7815 - val_loss: 0.8321 - val_mean_absolute_error: 0.8321\n",
            "Epoch 53/100\n",
            "129/129 [==============================] - 0s 2ms/step - loss: 0.7786 - mean_absolute_error: 0.7786 - val_loss: 0.8333 - val_mean_absolute_error: 0.8333\n",
            "Epoch 54/100\n",
            "129/129 [==============================] - 0s 2ms/step - loss: 0.7763 - mean_absolute_error: 0.7763 - val_loss: 0.8256 - val_mean_absolute_error: 0.8256\n",
            "Epoch 55/100\n",
            "129/129 [==============================] - 0s 2ms/step - loss: 0.7742 - mean_absolute_error: 0.7742 - val_loss: 0.8256 - val_mean_absolute_error: 0.8256\n",
            "Epoch 56/100\n",
            "129/129 [==============================] - 0s 2ms/step - loss: 0.7701 - mean_absolute_error: 0.7701 - val_loss: 0.8195 - val_mean_absolute_error: 0.8195\n",
            "Epoch 57/100\n",
            "129/129 [==============================] - 0s 2ms/step - loss: 0.7671 - mean_absolute_error: 0.7671 - val_loss: 0.8175 - val_mean_absolute_error: 0.8175\n",
            "Epoch 58/100\n",
            "129/129 [==============================] - 0s 2ms/step - loss: 0.7647 - mean_absolute_error: 0.7647 - val_loss: 0.8095 - val_mean_absolute_error: 0.8095\n",
            "Epoch 59/100\n",
            "129/129 [==============================] - 0s 2ms/step - loss: 0.7642 - mean_absolute_error: 0.7642 - val_loss: 0.8090 - val_mean_absolute_error: 0.8090\n",
            "Epoch 60/100\n",
            "129/129 [==============================] - 0s 2ms/step - loss: 0.7592 - mean_absolute_error: 0.7592 - val_loss: 0.8108 - val_mean_absolute_error: 0.8108\n",
            "Epoch 61/100\n",
            "129/129 [==============================] - 0s 2ms/step - loss: 0.7604 - mean_absolute_error: 0.7604 - val_loss: 0.8091 - val_mean_absolute_error: 0.8091\n",
            "Epoch 62/100\n",
            "129/129 [==============================] - 0s 2ms/step - loss: 0.7551 - mean_absolute_error: 0.7551 - val_loss: 0.8026 - val_mean_absolute_error: 0.8026\n",
            "Epoch 63/100\n",
            "129/129 [==============================] - 0s 2ms/step - loss: 0.7548 - mean_absolute_error: 0.7548 - val_loss: 0.7995 - val_mean_absolute_error: 0.7995\n",
            "Epoch 64/100\n",
            "129/129 [==============================] - 0s 2ms/step - loss: 0.7532 - mean_absolute_error: 0.7532 - val_loss: 0.8041 - val_mean_absolute_error: 0.8041\n",
            "Epoch 65/100\n",
            "129/129 [==============================] - 0s 2ms/step - loss: 0.7519 - mean_absolute_error: 0.7519 - val_loss: 0.7920 - val_mean_absolute_error: 0.7920\n",
            "Epoch 66/100\n",
            "129/129 [==============================] - 0s 2ms/step - loss: 0.7490 - mean_absolute_error: 0.7490 - val_loss: 0.8026 - val_mean_absolute_error: 0.8026\n",
            "Epoch 67/100\n",
            "129/129 [==============================] - 0s 3ms/step - loss: 0.7433 - mean_absolute_error: 0.7433 - val_loss: 0.7973 - val_mean_absolute_error: 0.7973\n",
            "Epoch 68/100\n",
            "129/129 [==============================] - 0s 2ms/step - loss: 0.7432 - mean_absolute_error: 0.7432 - val_loss: 0.7925 - val_mean_absolute_error: 0.7925\n",
            "Epoch 69/100\n",
            "129/129 [==============================] - 0s 2ms/step - loss: 0.7439 - mean_absolute_error: 0.7439 - val_loss: 0.7928 - val_mean_absolute_error: 0.7928\n",
            "Epoch 70/100\n",
            "129/129 [==============================] - 0s 3ms/step - loss: 0.7376 - mean_absolute_error: 0.7376 - val_loss: 0.7864 - val_mean_absolute_error: 0.7864\n",
            "Epoch 71/100\n",
            "129/129 [==============================] - 0s 2ms/step - loss: 0.7399 - mean_absolute_error: 0.7399 - val_loss: 0.7898 - val_mean_absolute_error: 0.7898\n",
            "Epoch 72/100\n",
            "129/129 [==============================] - 0s 2ms/step - loss: 0.7359 - mean_absolute_error: 0.7359 - val_loss: 0.7883 - val_mean_absolute_error: 0.7883\n",
            "Epoch 73/100\n",
            "129/129 [==============================] - 0s 2ms/step - loss: 0.7326 - mean_absolute_error: 0.7326 - val_loss: 0.7834 - val_mean_absolute_error: 0.7834\n",
            "Epoch 74/100\n",
            "129/129 [==============================] - 0s 2ms/step - loss: 0.7342 - mean_absolute_error: 0.7342 - val_loss: 0.7792 - val_mean_absolute_error: 0.7792\n",
            "Epoch 75/100\n",
            "129/129 [==============================] - 0s 2ms/step - loss: 0.7311 - mean_absolute_error: 0.7311 - val_loss: 0.7904 - val_mean_absolute_error: 0.7904\n",
            "Epoch 76/100\n",
            "129/129 [==============================] - 0s 2ms/step - loss: 0.7289 - mean_absolute_error: 0.7289 - val_loss: 0.7821 - val_mean_absolute_error: 0.7821\n",
            "Epoch 77/100\n",
            "129/129 [==============================] - 0s 2ms/step - loss: 0.7271 - mean_absolute_error: 0.7271 - val_loss: 0.7815 - val_mean_absolute_error: 0.7815\n",
            "Epoch 78/100\n",
            "129/129 [==============================] - 0s 2ms/step - loss: 0.7267 - mean_absolute_error: 0.7267 - val_loss: 0.7770 - val_mean_absolute_error: 0.7770\n",
            "Epoch 79/100\n",
            "129/129 [==============================] - 0s 3ms/step - loss: 0.7263 - mean_absolute_error: 0.7263 - val_loss: 0.7752 - val_mean_absolute_error: 0.7752\n",
            "Epoch 80/100\n",
            "129/129 [==============================] - 0s 3ms/step - loss: 0.7247 - mean_absolute_error: 0.7247 - val_loss: 0.7878 - val_mean_absolute_error: 0.7878\n",
            "Epoch 81/100\n",
            "129/129 [==============================] - 0s 4ms/step - loss: 0.7228 - mean_absolute_error: 0.7228 - val_loss: 0.7716 - val_mean_absolute_error: 0.7716\n",
            "Epoch 82/100\n",
            "129/129 [==============================] - 0s 4ms/step - loss: 0.7203 - mean_absolute_error: 0.7203 - val_loss: 0.7866 - val_mean_absolute_error: 0.7866\n",
            "Epoch 83/100\n",
            "129/129 [==============================] - 0s 3ms/step - loss: 0.7175 - mean_absolute_error: 0.7175 - val_loss: 0.7775 - val_mean_absolute_error: 0.7775\n",
            "Epoch 84/100\n",
            "129/129 [==============================] - 0s 3ms/step - loss: 0.7184 - mean_absolute_error: 0.7184 - val_loss: 0.7657 - val_mean_absolute_error: 0.7657\n",
            "Epoch 85/100\n",
            "129/129 [==============================] - 0s 3ms/step - loss: 0.7212 - mean_absolute_error: 0.7212 - val_loss: 0.7735 - val_mean_absolute_error: 0.7735\n",
            "Epoch 86/100\n",
            "129/129 [==============================] - 0s 2ms/step - loss: 0.7141 - mean_absolute_error: 0.7141 - val_loss: 0.7705 - val_mean_absolute_error: 0.7705\n",
            "Epoch 87/100\n",
            "129/129 [==============================] - 0s 3ms/step - loss: 0.7180 - mean_absolute_error: 0.7180 - val_loss: 0.7690 - val_mean_absolute_error: 0.7690\n",
            "Epoch 88/100\n",
            "129/129 [==============================] - 0s 2ms/step - loss: 0.7148 - mean_absolute_error: 0.7148 - val_loss: 0.7703 - val_mean_absolute_error: 0.7703\n",
            "Epoch 89/100\n",
            "129/129 [==============================] - 0s 2ms/step - loss: 0.7097 - mean_absolute_error: 0.7097 - val_loss: 0.7661 - val_mean_absolute_error: 0.7661\n",
            "Epoch 90/100\n",
            "129/129 [==============================] - 0s 2ms/step - loss: 0.7096 - mean_absolute_error: 0.7096 - val_loss: 0.7640 - val_mean_absolute_error: 0.7640\n",
            "Epoch 91/100\n",
            "129/129 [==============================] - 0s 3ms/step - loss: 0.7077 - mean_absolute_error: 0.7077 - val_loss: 0.7670 - val_mean_absolute_error: 0.7670\n",
            "Epoch 92/100\n",
            "129/129 [==============================] - 0s 3ms/step - loss: 0.7083 - mean_absolute_error: 0.7083 - val_loss: 0.7565 - val_mean_absolute_error: 0.7565\n",
            "Epoch 93/100\n",
            "129/129 [==============================] - 0s 3ms/step - loss: 0.7039 - mean_absolute_error: 0.7039 - val_loss: 0.7613 - val_mean_absolute_error: 0.7613\n",
            "Epoch 94/100\n",
            "129/129 [==============================] - 0s 2ms/step - loss: 0.7025 - mean_absolute_error: 0.7025 - val_loss: 0.7528 - val_mean_absolute_error: 0.7528\n",
            "Epoch 95/100\n",
            "129/129 [==============================] - 0s 2ms/step - loss: 0.7042 - mean_absolute_error: 0.7042 - val_loss: 0.7565 - val_mean_absolute_error: 0.7565\n",
            "Epoch 96/100\n",
            "129/129 [==============================] - 0s 3ms/step - loss: 0.7050 - mean_absolute_error: 0.7050 - val_loss: 0.7522 - val_mean_absolute_error: 0.7522\n",
            "Epoch 97/100\n",
            "129/129 [==============================] - 0s 2ms/step - loss: 0.7026 - mean_absolute_error: 0.7026 - val_loss: 0.7721 - val_mean_absolute_error: 0.7721\n",
            "Epoch 98/100\n",
            "129/129 [==============================] - 0s 2ms/step - loss: 0.6985 - mean_absolute_error: 0.6985 - val_loss: 0.7557 - val_mean_absolute_error: 0.7557\n",
            "Epoch 99/100\n",
            "129/129 [==============================] - 1s 6ms/step - loss: 0.6973 - mean_absolute_error: 0.6973 - val_loss: 0.7459 - val_mean_absolute_error: 0.7459\n",
            "Epoch 100/100\n",
            "129/129 [==============================] - 0s 2ms/step - loss: 0.6954 - mean_absolute_error: 0.6954 - val_loss: 0.7498 - val_mean_absolute_error: 0.7498\n"
          ]
        },
        {
          "output_type": "execute_result",
          "data": {
            "text/plain": [
              "<keras.callbacks.History at 0x7fb5cf725520>"
            ]
          },
          "metadata": {},
          "execution_count": 20
        }
      ]
    },
    {
      "cell_type": "code",
      "source": [
        "base_model_prediction=base_model.predict(x_test)\n",
        "base_model_prediction"
      ],
      "metadata": {
        "colab": {
          "base_uri": "https://localhost:8080/"
        },
        "id": "EsOxFOR7KcdZ",
        "outputId": "23cdfb7e-76cf-40f9-9d95-107bf3f4efb9"
      },
      "execution_count": 21,
      "outputs": [
        {
          "output_type": "stream",
          "name": "stdout",
          "text": [
            "41/41 [==============================] - 0s 3ms/step\n"
          ]
        },
        {
          "output_type": "execute_result",
          "data": {
            "text/plain": [
              "array([[10.002152],\n",
              "       [ 7.917557],\n",
              "       [ 6.294085],\n",
              "       ...,\n",
              "       [ 8.164799],\n",
              "       [ 6.905129],\n",
              "       [ 6.199835]], dtype=float32)"
            ]
          },
          "metadata": {},
          "execution_count": 21
        }
      ]
    },
    {
      "cell_type": "code",
      "source": [
        "from sklearn.metrics import mean_squared_error\n",
        "mse = mean_squared_error(y_test, base_model_prediction)\n",
        "rmse = mean_squared_error(y_test, base_model_prediction, squared=False)\n",
        "mse, rmse"
      ],
      "metadata": {
        "colab": {
          "base_uri": "https://localhost:8080/"
        },
        "id": "4IQKJnemKhaR",
        "outputId": "123bedf7-2169-4459-fe43-f5fa0d9d6bd3"
      },
      "execution_count": 22,
      "outputs": [
        {
          "output_type": "execute_result",
          "data": {
            "text/plain": [
              "(1.7265862418581102, 1.3139962868509598)"
            ]
          },
          "metadata": {},
          "execution_count": 22
        }
      ]
    },
    {
      "cell_type": "code",
      "source": [],
      "metadata": {
        "id": "PNATwr8RKjQC"
      },
      "execution_count": null,
      "outputs": []
    }
  ]
}