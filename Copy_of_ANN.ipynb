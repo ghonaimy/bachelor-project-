{
  "nbformat": 4,
  "nbformat_minor": 0,
  "metadata": {
    "colab": {
      "provenance": [],
      "authorship_tag": "ABX9TyP6t4uv2Jl2XSXfPiUkYMCW",
      "include_colab_link": true
    },
    "kernelspec": {
      "name": "python3",
      "display_name": "Python 3"
    },
    "language_info": {
      "name": "python"
    }
  },
  "cells": [
    {
      "cell_type": "markdown",
      "metadata": {
        "id": "view-in-github",
        "colab_type": "text"
      },
      "source": [
        "<a href=\"https://colab.research.google.com/github/ghonaimy/project-/blob/main/Copy_of_ANN.ipynb\" target=\"_parent\"><img src=\"https://colab.research.google.com/assets/colab-badge.svg\" alt=\"Open In Colab\"/></a>"
      ]
    },
    {
      "cell_type": "code",
      "execution_count": 1,
      "metadata": {
        "id": "uWV2DUpDA8-D"
      },
      "outputs": [],
      "source": [
        "import numpy as np # linear algebra\n",
        "import pandas as pd # data processing, CSV file I/O (e.g. pd.read_csv)\n",
        "import os\n",
        "for dirname, _, filenames in os.walk('/kaggle/input'):\n",
        "    for filename in filenames:\n",
        "        print(os.path.join(dirname, filename))\n",
        "        "
      ]
    },
    {
      "cell_type": "code",
      "source": [
        "\n",
        "import matplotlib.pyplot as plt\n",
        "%matplotlib inline\n",
        "\n",
        "import math\n",
        "from keras.models import Sequential\n",
        "from keras.layers import Dense\n",
        "from keras.layers import LSTM\n",
        "from sklearn.preprocessing import MinMaxScaler\n",
        "from sklearn.metrics import mean_squared_error\n",
        "from sklearn.metrics import mean_absolute_error\n",
        "\n",
        "from IPython.display import SVG\n",
        "from keras.utils.vis_utils import model_to_dot\n",
        "\n",
        "import itertools\n",
        "import warnings\n",
        "warnings.filterwarnings('ignore')"
      ],
      "metadata": {
        "id": "yKBRtODBIxrx"
      },
      "execution_count": 2,
      "outputs": []
    },
    {
      "cell_type": "code",
      "source": [
        "from sklearn.impute import SimpleImputer\n",
        "%matplotlib inline"
      ],
      "metadata": {
        "id": "YKMjYfEuJ13c"
      },
      "execution_count": 3,
      "outputs": []
    },
    {
      "cell_type": "code",
      "source": [
        "import tensorflow as tf\n",
        "import matplotlib.pyplot as plt\n",
        "import seaborn as sns\n",
        "\n",
        "import pandas as pd\n",
        "import numpy as np\n",
        "import matplotlib.pyplot as plt\n",
        "import seaborn as sns\n",
        "\n",
        "%matplotlib inline\n",
        "plt.style.use('fivethirtyeight')\n",
        "sns.set_style('whitegrid')\n",
        "\n",
        "df= pd.read_csv(r'https://github.com/ghonaimy/project-/raw/main/Walmart%20(1)%20(1).csv')\n",
        "\n",
        "df.head()\n"
      ],
      "metadata": {
        "colab": {
          "base_uri": "https://localhost:8080/",
          "height": 206
        },
        "id": "GdJnZoL8Ft6r",
        "outputId": "331823a8-c683-4f5c-f07f-4d374b028e40"
      },
      "execution_count": 4,
      "outputs": [
        {
          "output_type": "execute_result",
          "data": {
            "text/plain": [
              "   Store        Date  Weekly_Sales  Holiday_Flag  Temperature  Fuel_Price  \\\n",
              "0      1  05/02/2010    1643690.90             0        42.31       2.572   \n",
              "1      1  12/02/2010    1641957.44             1        38.51       2.548   \n",
              "2      1  19/02/2010    1611968.17             0        39.93       2.514   \n",
              "3      1  26/02/2010    1409727.59             0        46.63       2.561   \n",
              "4      1  05/03/2010    1554806.68             0        46.50       2.625   \n",
              "\n",
              "          CPI  Unemployment  Linear trend   Unnamed: 9  Unnamed: 10  \\\n",
              "0  211.096358         8.106     1497908.58         NaN          NaN   \n",
              "1  211.242170         8.106     1498716.41         NaN          NaN   \n",
              "2  211.289143         8.106     1499524.24         NaN          NaN   \n",
              "3  211.319643         8.106     1500332.07         NaN          NaN   \n",
              "4  211.350143         8.106     1501139.90         NaN          NaN   \n",
              "\n",
              "  Unnamed: 11  \n",
              "0         NaN  \n",
              "1         NaN  \n",
              "2         NaN  \n",
              "3         NaN  \n",
              "4         NaN  "
            ],
            "text/html": [
              "\n",
              "  <div id=\"df-d8fdb687-dd3f-4095-9515-7d0d219f292a\">\n",
              "    <div class=\"colab-df-container\">\n",
              "      <div>\n",
              "<style scoped>\n",
              "    .dataframe tbody tr th:only-of-type {\n",
              "        vertical-align: middle;\n",
              "    }\n",
              "\n",
              "    .dataframe tbody tr th {\n",
              "        vertical-align: top;\n",
              "    }\n",
              "\n",
              "    .dataframe thead th {\n",
              "        text-align: right;\n",
              "    }\n",
              "</style>\n",
              "<table border=\"1\" class=\"dataframe\">\n",
              "  <thead>\n",
              "    <tr style=\"text-align: right;\">\n",
              "      <th></th>\n",
              "      <th>Store</th>\n",
              "      <th>Date</th>\n",
              "      <th>Weekly_Sales</th>\n",
              "      <th>Holiday_Flag</th>\n",
              "      <th>Temperature</th>\n",
              "      <th>Fuel_Price</th>\n",
              "      <th>CPI</th>\n",
              "      <th>Unemployment</th>\n",
              "      <th>Linear trend</th>\n",
              "      <th>Unnamed: 9</th>\n",
              "      <th>Unnamed: 10</th>\n",
              "      <th>Unnamed: 11</th>\n",
              "    </tr>\n",
              "  </thead>\n",
              "  <tbody>\n",
              "    <tr>\n",
              "      <th>0</th>\n",
              "      <td>1</td>\n",
              "      <td>05/02/2010</td>\n",
              "      <td>1643690.90</td>\n",
              "      <td>0</td>\n",
              "      <td>42.31</td>\n",
              "      <td>2.572</td>\n",
              "      <td>211.096358</td>\n",
              "      <td>8.106</td>\n",
              "      <td>1497908.58</td>\n",
              "      <td>NaN</td>\n",
              "      <td>NaN</td>\n",
              "      <td>NaN</td>\n",
              "    </tr>\n",
              "    <tr>\n",
              "      <th>1</th>\n",
              "      <td>1</td>\n",
              "      <td>12/02/2010</td>\n",
              "      <td>1641957.44</td>\n",
              "      <td>1</td>\n",
              "      <td>38.51</td>\n",
              "      <td>2.548</td>\n",
              "      <td>211.242170</td>\n",
              "      <td>8.106</td>\n",
              "      <td>1498716.41</td>\n",
              "      <td>NaN</td>\n",
              "      <td>NaN</td>\n",
              "      <td>NaN</td>\n",
              "    </tr>\n",
              "    <tr>\n",
              "      <th>2</th>\n",
              "      <td>1</td>\n",
              "      <td>19/02/2010</td>\n",
              "      <td>1611968.17</td>\n",
              "      <td>0</td>\n",
              "      <td>39.93</td>\n",
              "      <td>2.514</td>\n",
              "      <td>211.289143</td>\n",
              "      <td>8.106</td>\n",
              "      <td>1499524.24</td>\n",
              "      <td>NaN</td>\n",
              "      <td>NaN</td>\n",
              "      <td>NaN</td>\n",
              "    </tr>\n",
              "    <tr>\n",
              "      <th>3</th>\n",
              "      <td>1</td>\n",
              "      <td>26/02/2010</td>\n",
              "      <td>1409727.59</td>\n",
              "      <td>0</td>\n",
              "      <td>46.63</td>\n",
              "      <td>2.561</td>\n",
              "      <td>211.319643</td>\n",
              "      <td>8.106</td>\n",
              "      <td>1500332.07</td>\n",
              "      <td>NaN</td>\n",
              "      <td>NaN</td>\n",
              "      <td>NaN</td>\n",
              "    </tr>\n",
              "    <tr>\n",
              "      <th>4</th>\n",
              "      <td>1</td>\n",
              "      <td>05/03/2010</td>\n",
              "      <td>1554806.68</td>\n",
              "      <td>0</td>\n",
              "      <td>46.50</td>\n",
              "      <td>2.625</td>\n",
              "      <td>211.350143</td>\n",
              "      <td>8.106</td>\n",
              "      <td>1501139.90</td>\n",
              "      <td>NaN</td>\n",
              "      <td>NaN</td>\n",
              "      <td>NaN</td>\n",
              "    </tr>\n",
              "  </tbody>\n",
              "</table>\n",
              "</div>\n",
              "      <button class=\"colab-df-convert\" onclick=\"convertToInteractive('df-d8fdb687-dd3f-4095-9515-7d0d219f292a')\"\n",
              "              title=\"Convert this dataframe to an interactive table.\"\n",
              "              style=\"display:none;\">\n",
              "        \n",
              "  <svg xmlns=\"http://www.w3.org/2000/svg\" height=\"24px\"viewBox=\"0 0 24 24\"\n",
              "       width=\"24px\">\n",
              "    <path d=\"M0 0h24v24H0V0z\" fill=\"none\"/>\n",
              "    <path d=\"M18.56 5.44l.94 2.06.94-2.06 2.06-.94-2.06-.94-.94-2.06-.94 2.06-2.06.94zm-11 1L8.5 8.5l.94-2.06 2.06-.94-2.06-.94L8.5 2.5l-.94 2.06-2.06.94zm10 10l.94 2.06.94-2.06 2.06-.94-2.06-.94-.94-2.06-.94 2.06-2.06.94z\"/><path d=\"M17.41 7.96l-1.37-1.37c-.4-.4-.92-.59-1.43-.59-.52 0-1.04.2-1.43.59L10.3 9.45l-7.72 7.72c-.78.78-.78 2.05 0 2.83L4 21.41c.39.39.9.59 1.41.59.51 0 1.02-.2 1.41-.59l7.78-7.78 2.81-2.81c.8-.78.8-2.07 0-2.86zM5.41 20L4 18.59l7.72-7.72 1.47 1.35L5.41 20z\"/>\n",
              "  </svg>\n",
              "      </button>\n",
              "      \n",
              "  <style>\n",
              "    .colab-df-container {\n",
              "      display:flex;\n",
              "      flex-wrap:wrap;\n",
              "      gap: 12px;\n",
              "    }\n",
              "\n",
              "    .colab-df-convert {\n",
              "      background-color: #E8F0FE;\n",
              "      border: none;\n",
              "      border-radius: 50%;\n",
              "      cursor: pointer;\n",
              "      display: none;\n",
              "      fill: #1967D2;\n",
              "      height: 32px;\n",
              "      padding: 0 0 0 0;\n",
              "      width: 32px;\n",
              "    }\n",
              "\n",
              "    .colab-df-convert:hover {\n",
              "      background-color: #E2EBFA;\n",
              "      box-shadow: 0px 1px 2px rgba(60, 64, 67, 0.3), 0px 1px 3px 1px rgba(60, 64, 67, 0.15);\n",
              "      fill: #174EA6;\n",
              "    }\n",
              "\n",
              "    [theme=dark] .colab-df-convert {\n",
              "      background-color: #3B4455;\n",
              "      fill: #D2E3FC;\n",
              "    }\n",
              "\n",
              "    [theme=dark] .colab-df-convert:hover {\n",
              "      background-color: #434B5C;\n",
              "      box-shadow: 0px 1px 3px 1px rgba(0, 0, 0, 0.15);\n",
              "      filter: drop-shadow(0px 1px 2px rgba(0, 0, 0, 0.3));\n",
              "      fill: #FFFFFF;\n",
              "    }\n",
              "  </style>\n",
              "\n",
              "      <script>\n",
              "        const buttonEl =\n",
              "          document.querySelector('#df-d8fdb687-dd3f-4095-9515-7d0d219f292a button.colab-df-convert');\n",
              "        buttonEl.style.display =\n",
              "          google.colab.kernel.accessAllowed ? 'block' : 'none';\n",
              "\n",
              "        async function convertToInteractive(key) {\n",
              "          const element = document.querySelector('#df-d8fdb687-dd3f-4095-9515-7d0d219f292a');\n",
              "          const dataTable =\n",
              "            await google.colab.kernel.invokeFunction('convertToInteractive',\n",
              "                                                     [key], {});\n",
              "          if (!dataTable) return;\n",
              "\n",
              "          const docLinkHtml = 'Like what you see? Visit the ' +\n",
              "            '<a target=\"_blank\" href=https://colab.research.google.com/notebooks/data_table.ipynb>data table notebook</a>'\n",
              "            + ' to learn more about interactive tables.';\n",
              "          element.innerHTML = '';\n",
              "          dataTable['output_type'] = 'display_data';\n",
              "          await google.colab.output.renderOutput(dataTable, element);\n",
              "          const docLink = document.createElement('div');\n",
              "          docLink.innerHTML = docLinkHtml;\n",
              "          element.appendChild(docLink);\n",
              "        }\n",
              "      </script>\n",
              "    </div>\n",
              "  </div>\n",
              "  "
            ]
          },
          "metadata": {},
          "execution_count": 4
        }
      ]
    },
    {
      "cell_type": "code",
      "source": [
        "df.drop(['Unnamed: 9'], axis=\"columns\", inplace=True)\n",
        "df.drop(['Unnamed: 10'], axis=\"columns\", inplace=True)\n",
        "df.drop(['Unnamed: 11'], axis=\"columns\", inplace=True)\n"
      ],
      "metadata": {
        "id": "CTFIGzQsGAQx"
      },
      "execution_count": 5,
      "outputs": []
    },
    {
      "cell_type": "code",
      "source": [
        "df.head()"
      ],
      "metadata": {
        "colab": {
          "base_uri": "https://localhost:8080/",
          "height": 206
        },
        "id": "x3I_jcSkGDbO",
        "outputId": "cc1b68ec-c2b9-4449-b901-2e799230ea30"
      },
      "execution_count": 6,
      "outputs": [
        {
          "output_type": "execute_result",
          "data": {
            "text/plain": [
              "   Store        Date  Weekly_Sales  Holiday_Flag  Temperature  Fuel_Price  \\\n",
              "0      1  05/02/2010    1643690.90             0        42.31       2.572   \n",
              "1      1  12/02/2010    1641957.44             1        38.51       2.548   \n",
              "2      1  19/02/2010    1611968.17             0        39.93       2.514   \n",
              "3      1  26/02/2010    1409727.59             0        46.63       2.561   \n",
              "4      1  05/03/2010    1554806.68             0        46.50       2.625   \n",
              "\n",
              "          CPI  Unemployment  Linear trend   \n",
              "0  211.096358         8.106     1497908.58  \n",
              "1  211.242170         8.106     1498716.41  \n",
              "2  211.289143         8.106     1499524.24  \n",
              "3  211.319643         8.106     1500332.07  \n",
              "4  211.350143         8.106     1501139.90  "
            ],
            "text/html": [
              "\n",
              "  <div id=\"df-3b80ede4-3143-4ec5-bd3b-8fa1b682f760\">\n",
              "    <div class=\"colab-df-container\">\n",
              "      <div>\n",
              "<style scoped>\n",
              "    .dataframe tbody tr th:only-of-type {\n",
              "        vertical-align: middle;\n",
              "    }\n",
              "\n",
              "    .dataframe tbody tr th {\n",
              "        vertical-align: top;\n",
              "    }\n",
              "\n",
              "    .dataframe thead th {\n",
              "        text-align: right;\n",
              "    }\n",
              "</style>\n",
              "<table border=\"1\" class=\"dataframe\">\n",
              "  <thead>\n",
              "    <tr style=\"text-align: right;\">\n",
              "      <th></th>\n",
              "      <th>Store</th>\n",
              "      <th>Date</th>\n",
              "      <th>Weekly_Sales</th>\n",
              "      <th>Holiday_Flag</th>\n",
              "      <th>Temperature</th>\n",
              "      <th>Fuel_Price</th>\n",
              "      <th>CPI</th>\n",
              "      <th>Unemployment</th>\n",
              "      <th>Linear trend</th>\n",
              "    </tr>\n",
              "  </thead>\n",
              "  <tbody>\n",
              "    <tr>\n",
              "      <th>0</th>\n",
              "      <td>1</td>\n",
              "      <td>05/02/2010</td>\n",
              "      <td>1643690.90</td>\n",
              "      <td>0</td>\n",
              "      <td>42.31</td>\n",
              "      <td>2.572</td>\n",
              "      <td>211.096358</td>\n",
              "      <td>8.106</td>\n",
              "      <td>1497908.58</td>\n",
              "    </tr>\n",
              "    <tr>\n",
              "      <th>1</th>\n",
              "      <td>1</td>\n",
              "      <td>12/02/2010</td>\n",
              "      <td>1641957.44</td>\n",
              "      <td>1</td>\n",
              "      <td>38.51</td>\n",
              "      <td>2.548</td>\n",
              "      <td>211.242170</td>\n",
              "      <td>8.106</td>\n",
              "      <td>1498716.41</td>\n",
              "    </tr>\n",
              "    <tr>\n",
              "      <th>2</th>\n",
              "      <td>1</td>\n",
              "      <td>19/02/2010</td>\n",
              "      <td>1611968.17</td>\n",
              "      <td>0</td>\n",
              "      <td>39.93</td>\n",
              "      <td>2.514</td>\n",
              "      <td>211.289143</td>\n",
              "      <td>8.106</td>\n",
              "      <td>1499524.24</td>\n",
              "    </tr>\n",
              "    <tr>\n",
              "      <th>3</th>\n",
              "      <td>1</td>\n",
              "      <td>26/02/2010</td>\n",
              "      <td>1409727.59</td>\n",
              "      <td>0</td>\n",
              "      <td>46.63</td>\n",
              "      <td>2.561</td>\n",
              "      <td>211.319643</td>\n",
              "      <td>8.106</td>\n",
              "      <td>1500332.07</td>\n",
              "    </tr>\n",
              "    <tr>\n",
              "      <th>4</th>\n",
              "      <td>1</td>\n",
              "      <td>05/03/2010</td>\n",
              "      <td>1554806.68</td>\n",
              "      <td>0</td>\n",
              "      <td>46.50</td>\n",
              "      <td>2.625</td>\n",
              "      <td>211.350143</td>\n",
              "      <td>8.106</td>\n",
              "      <td>1501139.90</td>\n",
              "    </tr>\n",
              "  </tbody>\n",
              "</table>\n",
              "</div>\n",
              "      <button class=\"colab-df-convert\" onclick=\"convertToInteractive('df-3b80ede4-3143-4ec5-bd3b-8fa1b682f760')\"\n",
              "              title=\"Convert this dataframe to an interactive table.\"\n",
              "              style=\"display:none;\">\n",
              "        \n",
              "  <svg xmlns=\"http://www.w3.org/2000/svg\" height=\"24px\"viewBox=\"0 0 24 24\"\n",
              "       width=\"24px\">\n",
              "    <path d=\"M0 0h24v24H0V0z\" fill=\"none\"/>\n",
              "    <path d=\"M18.56 5.44l.94 2.06.94-2.06 2.06-.94-2.06-.94-.94-2.06-.94 2.06-2.06.94zm-11 1L8.5 8.5l.94-2.06 2.06-.94-2.06-.94L8.5 2.5l-.94 2.06-2.06.94zm10 10l.94 2.06.94-2.06 2.06-.94-2.06-.94-.94-2.06-.94 2.06-2.06.94z\"/><path d=\"M17.41 7.96l-1.37-1.37c-.4-.4-.92-.59-1.43-.59-.52 0-1.04.2-1.43.59L10.3 9.45l-7.72 7.72c-.78.78-.78 2.05 0 2.83L4 21.41c.39.39.9.59 1.41.59.51 0 1.02-.2 1.41-.59l7.78-7.78 2.81-2.81c.8-.78.8-2.07 0-2.86zM5.41 20L4 18.59l7.72-7.72 1.47 1.35L5.41 20z\"/>\n",
              "  </svg>\n",
              "      </button>\n",
              "      \n",
              "  <style>\n",
              "    .colab-df-container {\n",
              "      display:flex;\n",
              "      flex-wrap:wrap;\n",
              "      gap: 12px;\n",
              "    }\n",
              "\n",
              "    .colab-df-convert {\n",
              "      background-color: #E8F0FE;\n",
              "      border: none;\n",
              "      border-radius: 50%;\n",
              "      cursor: pointer;\n",
              "      display: none;\n",
              "      fill: #1967D2;\n",
              "      height: 32px;\n",
              "      padding: 0 0 0 0;\n",
              "      width: 32px;\n",
              "    }\n",
              "\n",
              "    .colab-df-convert:hover {\n",
              "      background-color: #E2EBFA;\n",
              "      box-shadow: 0px 1px 2px rgba(60, 64, 67, 0.3), 0px 1px 3px 1px rgba(60, 64, 67, 0.15);\n",
              "      fill: #174EA6;\n",
              "    }\n",
              "\n",
              "    [theme=dark] .colab-df-convert {\n",
              "      background-color: #3B4455;\n",
              "      fill: #D2E3FC;\n",
              "    }\n",
              "\n",
              "    [theme=dark] .colab-df-convert:hover {\n",
              "      background-color: #434B5C;\n",
              "      box-shadow: 0px 1px 3px 1px rgba(0, 0, 0, 0.15);\n",
              "      filter: drop-shadow(0px 1px 2px rgba(0, 0, 0, 0.3));\n",
              "      fill: #FFFFFF;\n",
              "    }\n",
              "  </style>\n",
              "\n",
              "      <script>\n",
              "        const buttonEl =\n",
              "          document.querySelector('#df-3b80ede4-3143-4ec5-bd3b-8fa1b682f760 button.colab-df-convert');\n",
              "        buttonEl.style.display =\n",
              "          google.colab.kernel.accessAllowed ? 'block' : 'none';\n",
              "\n",
              "        async function convertToInteractive(key) {\n",
              "          const element = document.querySelector('#df-3b80ede4-3143-4ec5-bd3b-8fa1b682f760');\n",
              "          const dataTable =\n",
              "            await google.colab.kernel.invokeFunction('convertToInteractive',\n",
              "                                                     [key], {});\n",
              "          if (!dataTable) return;\n",
              "\n",
              "          const docLinkHtml = 'Like what you see? Visit the ' +\n",
              "            '<a target=\"_blank\" href=https://colab.research.google.com/notebooks/data_table.ipynb>data table notebook</a>'\n",
              "            + ' to learn more about interactive tables.';\n",
              "          element.innerHTML = '';\n",
              "          dataTable['output_type'] = 'display_data';\n",
              "          await google.colab.output.renderOutput(dataTable, element);\n",
              "          const docLink = document.createElement('div');\n",
              "          docLink.innerHTML = docLinkHtml;\n",
              "          element.appendChild(docLink);\n",
              "        }\n",
              "      </script>\n",
              "    </div>\n",
              "  </div>\n",
              "  "
            ]
          },
          "metadata": {},
          "execution_count": 6
        }
      ]
    },
    {
      "cell_type": "code",
      "source": [
        "Y = df['Unemployment']\n",
        "X = df.drop(['Unemployment','Date'],axis=1)\n",
        "\n",
        "X.shape, Y.shape"
      ],
      "metadata": {
        "colab": {
          "base_uri": "https://localhost:8080/"
        },
        "id": "btlvRfz-Hurx",
        "outputId": "ea4aa741-33fc-4ea3-ff03-a32e3e0b49f1"
      },
      "execution_count": 7,
      "outputs": [
        {
          "output_type": "execute_result",
          "data": {
            "text/plain": [
              "((6435, 7), (6435,))"
            ]
          },
          "metadata": {},
          "execution_count": 7
        }
      ]
    },
    {
      "cell_type": "code",
      "source": [
        "from sklearn.model_selection import train_test_split"
      ],
      "metadata": {
        "id": "GGILLyDmJtPC"
      },
      "execution_count": 8,
      "outputs": []
    },
    {
      "cell_type": "code",
      "source": [
        "x_train, x_test, y_train, y_test = train_test_split(X,Y,train_size=0.8, random_state=0)\n",
        "x_train.shape, y_train.shape, x_test.shape, y_test.shape"
      ],
      "metadata": {
        "colab": {
          "base_uri": "https://localhost:8080/"
        },
        "id": "8ZS5cXnQH0bx",
        "outputId": "6d066b09-8b56-48b8-a41c-b1e5349742e6"
      },
      "execution_count": 9,
      "outputs": [
        {
          "output_type": "execute_result",
          "data": {
            "text/plain": [
              "((5148, 7), (5148,), (1287, 7), (1287,))"
            ]
          },
          "metadata": {},
          "execution_count": 9
        }
      ]
    },
    {
      "cell_type": "code",
      "source": [
        "from sklearn.preprocessing import StandardScaler\n",
        "\n",
        "sc = StandardScaler()\n",
        "\n",
        "x_train = sc.fit_transform(x_train)\n",
        "x_test = sc.transform(x_test)\n",
        "\n",
        "x_train.shape, x_test.shape"
      ],
      "metadata": {
        "colab": {
          "base_uri": "https://localhost:8080/"
        },
        "id": "sVHw7QAzJLmq",
        "outputId": "fb82cfa3-ba50-48a4-f303-be3bd550dbee"
      },
      "execution_count": 10,
      "outputs": [
        {
          "output_type": "execute_result",
          "data": {
            "text/plain": [
              "((5148, 7), (1287, 7))"
            ]
          },
          "metadata": {},
          "execution_count": 10
        }
      ]
    },
    {
      "cell_type": "code",
      "source": [
        "tf.random.set_seed(42)\n",
        "\n",
        "base_model = tf.keras.Sequential([\n",
        "    tf.keras.layers.Input(shape=x_test.shape[1]),\n",
        "    tf.keras.layers.Dense(64,activation=\"relu\"),\n",
        "    tf.keras.layers.Dense(1, activation=\"linear\")\n",
        "])"
      ],
      "metadata": {
        "id": "E7sBgnK7JLj9"
      },
      "execution_count": 11,
      "outputs": []
    },
    {
      "cell_type": "code",
      "source": [
        "base_model.compile(loss=\"mae\",\n",
        "               optimizer=tf.keras.optimizers.Adam(),\n",
        "                   metrics=[\"mean_absolute_error\"])"
      ],
      "metadata": {
        "id": "muY0DLyTKG-S"
      },
      "execution_count": 12,
      "outputs": []
    },
    {
      "cell_type": "code",
      "source": [
        "base_model.fit(x_train,y_train, epochs=100,validation_split=0.2, verbose=1)\n"
      ],
      "metadata": {
        "colab": {
          "base_uri": "https://localhost:8080/"
        },
        "id": "3idctDvLKPCN",
        "outputId": "55b1009a-6727-471a-9bf1-2c428cf4c4fd"
      },
      "execution_count": 13,
      "outputs": [
        {
          "output_type": "stream",
          "name": "stdout",
          "text": [
            "Epoch 1/100\n",
            "129/129 [==============================] - 3s 7ms/step - loss: 6.1443 - mean_absolute_error: 6.1443 - val_loss: 3.9793 - val_mean_absolute_error: 3.9793\n",
            "Epoch 2/100\n",
            "129/129 [==============================] - 1s 5ms/step - loss: 2.4399 - mean_absolute_error: 2.4399 - val_loss: 1.7452 - val_mean_absolute_error: 1.7452\n",
            "Epoch 3/100\n",
            "129/129 [==============================] - 1s 5ms/step - loss: 1.5252 - mean_absolute_error: 1.5252 - val_loss: 1.4796 - val_mean_absolute_error: 1.4796\n",
            "Epoch 4/100\n",
            "129/129 [==============================] - 1s 5ms/step - loss: 1.3629 - mean_absolute_error: 1.3629 - val_loss: 1.3676 - val_mean_absolute_error: 1.3676\n",
            "Epoch 5/100\n",
            "129/129 [==============================] - 1s 5ms/step - loss: 1.2749 - mean_absolute_error: 1.2749 - val_loss: 1.2949 - val_mean_absolute_error: 1.2949\n",
            "Epoch 6/100\n",
            "129/129 [==============================] - 1s 5ms/step - loss: 1.2104 - mean_absolute_error: 1.2104 - val_loss: 1.2388 - val_mean_absolute_error: 1.2388\n",
            "Epoch 7/100\n",
            "129/129 [==============================] - 1s 5ms/step - loss: 1.1669 - mean_absolute_error: 1.1669 - val_loss: 1.1994 - val_mean_absolute_error: 1.1994\n",
            "Epoch 8/100\n",
            "129/129 [==============================] - 1s 5ms/step - loss: 1.1281 - mean_absolute_error: 1.1281 - val_loss: 1.1591 - val_mean_absolute_error: 1.1591\n",
            "Epoch 9/100\n",
            "129/129 [==============================] - 1s 5ms/step - loss: 1.0951 - mean_absolute_error: 1.0951 - val_loss: 1.1370 - val_mean_absolute_error: 1.1370\n",
            "Epoch 10/100\n",
            "129/129 [==============================] - 1s 6ms/step - loss: 1.0669 - mean_absolute_error: 1.0669 - val_loss: 1.1083 - val_mean_absolute_error: 1.1083\n",
            "Epoch 11/100\n",
            "129/129 [==============================] - 1s 4ms/step - loss: 1.0480 - mean_absolute_error: 1.0480 - val_loss: 1.0883 - val_mean_absolute_error: 1.0883\n",
            "Epoch 12/100\n",
            "129/129 [==============================] - 1s 5ms/step - loss: 1.0272 - mean_absolute_error: 1.0272 - val_loss: 1.0769 - val_mean_absolute_error: 1.0769\n",
            "Epoch 13/100\n",
            "129/129 [==============================] - 1s 6ms/step - loss: 1.0127 - mean_absolute_error: 1.0127 - val_loss: 1.0597 - val_mean_absolute_error: 1.0597\n",
            "Epoch 14/100\n",
            "129/129 [==============================] - 1s 9ms/step - loss: 0.9987 - mean_absolute_error: 0.9987 - val_loss: 1.0493 - val_mean_absolute_error: 1.0493\n",
            "Epoch 15/100\n",
            "129/129 [==============================] - 1s 11ms/step - loss: 0.9854 - mean_absolute_error: 0.9854 - val_loss: 1.0311 - val_mean_absolute_error: 1.0311\n",
            "Epoch 16/100\n",
            "129/129 [==============================] - 1s 7ms/step - loss: 0.9730 - mean_absolute_error: 0.9730 - val_loss: 1.0224 - val_mean_absolute_error: 1.0224\n",
            "Epoch 17/100\n",
            "129/129 [==============================] - 1s 5ms/step - loss: 0.9623 - mean_absolute_error: 0.9623 - val_loss: 1.0129 - val_mean_absolute_error: 1.0129\n",
            "Epoch 18/100\n",
            "129/129 [==============================] - 1s 4ms/step - loss: 0.9527 - mean_absolute_error: 0.9527 - val_loss: 0.9995 - val_mean_absolute_error: 0.9995\n",
            "Epoch 19/100\n",
            "129/129 [==============================] - 1s 4ms/step - loss: 0.9461 - mean_absolute_error: 0.9461 - val_loss: 0.9937 - val_mean_absolute_error: 0.9937\n",
            "Epoch 20/100\n",
            "129/129 [==============================] - 1s 5ms/step - loss: 0.9344 - mean_absolute_error: 0.9344 - val_loss: 0.9932 - val_mean_absolute_error: 0.9932\n",
            "Epoch 21/100\n",
            "129/129 [==============================] - 1s 7ms/step - loss: 0.9264 - mean_absolute_error: 0.9264 - val_loss: 0.9787 - val_mean_absolute_error: 0.9787\n",
            "Epoch 22/100\n",
            "129/129 [==============================] - 1s 4ms/step - loss: 0.9183 - mean_absolute_error: 0.9183 - val_loss: 0.9625 - val_mean_absolute_error: 0.9625\n",
            "Epoch 23/100\n",
            "129/129 [==============================] - 1s 6ms/step - loss: 0.9096 - mean_absolute_error: 0.9096 - val_loss: 0.9581 - val_mean_absolute_error: 0.9581\n",
            "Epoch 24/100\n",
            "129/129 [==============================] - 1s 7ms/step - loss: 0.9037 - mean_absolute_error: 0.9037 - val_loss: 0.9562 - val_mean_absolute_error: 0.9562\n",
            "Epoch 25/100\n",
            "129/129 [==============================] - 0s 2ms/step - loss: 0.8960 - mean_absolute_error: 0.8960 - val_loss: 0.9514 - val_mean_absolute_error: 0.9514\n",
            "Epoch 26/100\n",
            "129/129 [==============================] - 0s 2ms/step - loss: 0.8891 - mean_absolute_error: 0.8891 - val_loss: 0.9438 - val_mean_absolute_error: 0.9438\n",
            "Epoch 27/100\n",
            "129/129 [==============================] - 0s 2ms/step - loss: 0.8821 - mean_absolute_error: 0.8821 - val_loss: 0.9337 - val_mean_absolute_error: 0.9337\n",
            "Epoch 28/100\n",
            "129/129 [==============================] - 0s 2ms/step - loss: 0.8748 - mean_absolute_error: 0.8748 - val_loss: 0.9360 - val_mean_absolute_error: 0.9360\n",
            "Epoch 29/100\n",
            "129/129 [==============================] - 0s 2ms/step - loss: 0.8679 - mean_absolute_error: 0.8679 - val_loss: 0.9187 - val_mean_absolute_error: 0.9187\n",
            "Epoch 30/100\n",
            "129/129 [==============================] - 0s 2ms/step - loss: 0.8611 - mean_absolute_error: 0.8611 - val_loss: 0.9150 - val_mean_absolute_error: 0.9150\n",
            "Epoch 31/100\n",
            "129/129 [==============================] - 0s 2ms/step - loss: 0.8531 - mean_absolute_error: 0.8531 - val_loss: 0.9080 - val_mean_absolute_error: 0.9080\n",
            "Epoch 32/100\n",
            "129/129 [==============================] - 0s 2ms/step - loss: 0.8492 - mean_absolute_error: 0.8492 - val_loss: 0.9007 - val_mean_absolute_error: 0.9007\n",
            "Epoch 33/100\n",
            "129/129 [==============================] - 0s 2ms/step - loss: 0.8455 - mean_absolute_error: 0.8455 - val_loss: 0.8988 - val_mean_absolute_error: 0.8988\n",
            "Epoch 34/100\n",
            "129/129 [==============================] - 0s 2ms/step - loss: 0.8390 - mean_absolute_error: 0.8390 - val_loss: 0.8953 - val_mean_absolute_error: 0.8953\n",
            "Epoch 35/100\n",
            "129/129 [==============================] - 0s 3ms/step - loss: 0.8355 - mean_absolute_error: 0.8355 - val_loss: 0.8906 - val_mean_absolute_error: 0.8906\n",
            "Epoch 36/100\n",
            "129/129 [==============================] - 0s 2ms/step - loss: 0.8311 - mean_absolute_error: 0.8311 - val_loss: 0.8876 - val_mean_absolute_error: 0.8876\n",
            "Epoch 37/100\n",
            "129/129 [==============================] - 0s 2ms/step - loss: 0.8247 - mean_absolute_error: 0.8247 - val_loss: 0.8833 - val_mean_absolute_error: 0.8833\n",
            "Epoch 38/100\n",
            "129/129 [==============================] - 0s 2ms/step - loss: 0.8210 - mean_absolute_error: 0.8210 - val_loss: 0.8826 - val_mean_absolute_error: 0.8826\n",
            "Epoch 39/100\n",
            "129/129 [==============================] - 0s 3ms/step - loss: 0.8187 - mean_absolute_error: 0.8187 - val_loss: 0.8741 - val_mean_absolute_error: 0.8741\n",
            "Epoch 40/100\n",
            "129/129 [==============================] - 0s 3ms/step - loss: 0.8148 - mean_absolute_error: 0.8148 - val_loss: 0.8770 - val_mean_absolute_error: 0.8770\n",
            "Epoch 41/100\n",
            "129/129 [==============================] - 0s 3ms/step - loss: 0.8115 - mean_absolute_error: 0.8115 - val_loss: 0.8776 - val_mean_absolute_error: 0.8776\n",
            "Epoch 42/100\n",
            "129/129 [==============================] - 0s 3ms/step - loss: 0.8083 - mean_absolute_error: 0.8083 - val_loss: 0.8663 - val_mean_absolute_error: 0.8663\n",
            "Epoch 43/100\n",
            "129/129 [==============================] - 0s 3ms/step - loss: 0.8052 - mean_absolute_error: 0.8052 - val_loss: 0.8610 - val_mean_absolute_error: 0.8610\n",
            "Epoch 44/100\n",
            "129/129 [==============================] - 0s 3ms/step - loss: 0.8027 - mean_absolute_error: 0.8027 - val_loss: 0.8584 - val_mean_absolute_error: 0.8584\n",
            "Epoch 45/100\n",
            "129/129 [==============================] - 0s 3ms/step - loss: 0.8013 - mean_absolute_error: 0.8013 - val_loss: 0.8649 - val_mean_absolute_error: 0.8649\n",
            "Epoch 46/100\n",
            "129/129 [==============================] - 0s 3ms/step - loss: 0.7968 - mean_absolute_error: 0.7968 - val_loss: 0.8535 - val_mean_absolute_error: 0.8535\n",
            "Epoch 47/100\n",
            "129/129 [==============================] - 0s 2ms/step - loss: 0.7932 - mean_absolute_error: 0.7932 - val_loss: 0.8521 - val_mean_absolute_error: 0.8521\n",
            "Epoch 48/100\n",
            "129/129 [==============================] - 0s 2ms/step - loss: 0.7927 - mean_absolute_error: 0.7927 - val_loss: 0.8478 - val_mean_absolute_error: 0.8478\n",
            "Epoch 49/100\n",
            "129/129 [==============================] - 0s 2ms/step - loss: 0.7875 - mean_absolute_error: 0.7875 - val_loss: 0.8457 - val_mean_absolute_error: 0.8457\n",
            "Epoch 50/100\n",
            "129/129 [==============================] - 0s 2ms/step - loss: 0.7858 - mean_absolute_error: 0.7858 - val_loss: 0.8477 - val_mean_absolute_error: 0.8477\n",
            "Epoch 51/100\n",
            "129/129 [==============================] - 0s 2ms/step - loss: 0.7846 - mean_absolute_error: 0.7846 - val_loss: 0.8403 - val_mean_absolute_error: 0.8403\n",
            "Epoch 52/100\n",
            "129/129 [==============================] - 0s 2ms/step - loss: 0.7799 - mean_absolute_error: 0.7799 - val_loss: 0.8391 - val_mean_absolute_error: 0.8391\n",
            "Epoch 53/100\n",
            "129/129 [==============================] - 0s 3ms/step - loss: 0.7811 - mean_absolute_error: 0.7811 - val_loss: 0.8439 - val_mean_absolute_error: 0.8439\n",
            "Epoch 54/100\n",
            "129/129 [==============================] - 0s 3ms/step - loss: 0.7771 - mean_absolute_error: 0.7771 - val_loss: 0.8327 - val_mean_absolute_error: 0.8327\n",
            "Epoch 55/100\n",
            "129/129 [==============================] - 0s 3ms/step - loss: 0.7761 - mean_absolute_error: 0.7761 - val_loss: 0.8304 - val_mean_absolute_error: 0.8304\n",
            "Epoch 56/100\n",
            "129/129 [==============================] - 0s 3ms/step - loss: 0.7718 - mean_absolute_error: 0.7718 - val_loss: 0.8346 - val_mean_absolute_error: 0.8346\n",
            "Epoch 57/100\n",
            "129/129 [==============================] - 0s 2ms/step - loss: 0.7700 - mean_absolute_error: 0.7700 - val_loss: 0.8252 - val_mean_absolute_error: 0.8252\n",
            "Epoch 58/100\n",
            "129/129 [==============================] - 0s 2ms/step - loss: 0.7681 - mean_absolute_error: 0.7681 - val_loss: 0.8246 - val_mean_absolute_error: 0.8246\n",
            "Epoch 59/100\n",
            "129/129 [==============================] - 0s 3ms/step - loss: 0.7659 - mean_absolute_error: 0.7659 - val_loss: 0.8271 - val_mean_absolute_error: 0.8271\n",
            "Epoch 60/100\n",
            "129/129 [==============================] - 0s 2ms/step - loss: 0.7646 - mean_absolute_error: 0.7646 - val_loss: 0.8255 - val_mean_absolute_error: 0.8255\n",
            "Epoch 61/100\n",
            "129/129 [==============================] - 0s 2ms/step - loss: 0.7613 - mean_absolute_error: 0.7613 - val_loss: 0.8229 - val_mean_absolute_error: 0.8229\n",
            "Epoch 62/100\n",
            "129/129 [==============================] - 0s 2ms/step - loss: 0.7594 - mean_absolute_error: 0.7594 - val_loss: 0.8172 - val_mean_absolute_error: 0.8172\n",
            "Epoch 63/100\n",
            "129/129 [==============================] - 0s 2ms/step - loss: 0.7579 - mean_absolute_error: 0.7579 - val_loss: 0.8140 - val_mean_absolute_error: 0.8140\n",
            "Epoch 64/100\n",
            "129/129 [==============================] - 0s 2ms/step - loss: 0.7568 - mean_absolute_error: 0.7568 - val_loss: 0.8112 - val_mean_absolute_error: 0.8112\n",
            "Epoch 65/100\n",
            "129/129 [==============================] - 0s 2ms/step - loss: 0.7523 - mean_absolute_error: 0.7523 - val_loss: 0.8139 - val_mean_absolute_error: 0.8139\n",
            "Epoch 66/100\n",
            "129/129 [==============================] - 0s 3ms/step - loss: 0.7510 - mean_absolute_error: 0.7510 - val_loss: 0.8149 - val_mean_absolute_error: 0.8149\n",
            "Epoch 67/100\n",
            "129/129 [==============================] - 0s 3ms/step - loss: 0.7470 - mean_absolute_error: 0.7470 - val_loss: 0.8162 - val_mean_absolute_error: 0.8162\n",
            "Epoch 68/100\n",
            "129/129 [==============================] - 0s 3ms/step - loss: 0.7475 - mean_absolute_error: 0.7475 - val_loss: 0.8137 - val_mean_absolute_error: 0.8137\n",
            "Epoch 69/100\n",
            "129/129 [==============================] - 0s 2ms/step - loss: 0.7486 - mean_absolute_error: 0.7486 - val_loss: 0.8004 - val_mean_absolute_error: 0.8004\n",
            "Epoch 70/100\n",
            "129/129 [==============================] - 0s 3ms/step - loss: 0.7412 - mean_absolute_error: 0.7412 - val_loss: 0.8048 - val_mean_absolute_error: 0.8048\n",
            "Epoch 71/100\n",
            "129/129 [==============================] - 0s 2ms/step - loss: 0.7413 - mean_absolute_error: 0.7413 - val_loss: 0.8020 - val_mean_absolute_error: 0.8020\n",
            "Epoch 72/100\n",
            "129/129 [==============================] - 0s 2ms/step - loss: 0.7380 - mean_absolute_error: 0.7380 - val_loss: 0.7955 - val_mean_absolute_error: 0.7955\n",
            "Epoch 73/100\n",
            "129/129 [==============================] - 0s 2ms/step - loss: 0.7364 - mean_absolute_error: 0.7364 - val_loss: 0.7951 - val_mean_absolute_error: 0.7951\n",
            "Epoch 74/100\n",
            "129/129 [==============================] - 0s 2ms/step - loss: 0.7358 - mean_absolute_error: 0.7358 - val_loss: 0.7935 - val_mean_absolute_error: 0.7935\n",
            "Epoch 75/100\n",
            "129/129 [==============================] - 0s 2ms/step - loss: 0.7343 - mean_absolute_error: 0.7343 - val_loss: 0.8093 - val_mean_absolute_error: 0.8093\n",
            "Epoch 76/100\n",
            "129/129 [==============================] - 0s 2ms/step - loss: 0.7299 - mean_absolute_error: 0.7299 - val_loss: 0.7905 - val_mean_absolute_error: 0.7905\n",
            "Epoch 77/100\n",
            "129/129 [==============================] - 0s 3ms/step - loss: 0.7286 - mean_absolute_error: 0.7286 - val_loss: 0.7963 - val_mean_absolute_error: 0.7963\n",
            "Epoch 78/100\n",
            "129/129 [==============================] - 0s 4ms/step - loss: 0.7305 - mean_absolute_error: 0.7305 - val_loss: 0.7915 - val_mean_absolute_error: 0.7915\n",
            "Epoch 79/100\n",
            "129/129 [==============================] - 0s 3ms/step - loss: 0.7268 - mean_absolute_error: 0.7268 - val_loss: 0.7868 - val_mean_absolute_error: 0.7868\n",
            "Epoch 80/100\n",
            "129/129 [==============================] - 0s 3ms/step - loss: 0.7260 - mean_absolute_error: 0.7260 - val_loss: 0.7909 - val_mean_absolute_error: 0.7909\n",
            "Epoch 81/100\n",
            "129/129 [==============================] - 0s 3ms/step - loss: 0.7229 - mean_absolute_error: 0.7229 - val_loss: 0.7857 - val_mean_absolute_error: 0.7857\n",
            "Epoch 82/100\n",
            "129/129 [==============================] - 0s 3ms/step - loss: 0.7212 - mean_absolute_error: 0.7212 - val_loss: 0.7834 - val_mean_absolute_error: 0.7834\n",
            "Epoch 83/100\n",
            "129/129 [==============================] - 0s 4ms/step - loss: 0.7184 - mean_absolute_error: 0.7184 - val_loss: 0.7793 - val_mean_absolute_error: 0.7793\n",
            "Epoch 84/100\n",
            "129/129 [==============================] - 0s 3ms/step - loss: 0.7166 - mean_absolute_error: 0.7166 - val_loss: 0.7797 - val_mean_absolute_error: 0.7797\n",
            "Epoch 85/100\n",
            "129/129 [==============================] - 0s 2ms/step - loss: 0.7166 - mean_absolute_error: 0.7166 - val_loss: 0.7810 - val_mean_absolute_error: 0.7810\n",
            "Epoch 86/100\n",
            "129/129 [==============================] - 0s 2ms/step - loss: 0.7141 - mean_absolute_error: 0.7141 - val_loss: 0.7806 - val_mean_absolute_error: 0.7806\n",
            "Epoch 87/100\n",
            "129/129 [==============================] - 0s 2ms/step - loss: 0.7119 - mean_absolute_error: 0.7119 - val_loss: 0.7693 - val_mean_absolute_error: 0.7693\n",
            "Epoch 88/100\n",
            "129/129 [==============================] - 0s 2ms/step - loss: 0.7104 - mean_absolute_error: 0.7104 - val_loss: 0.7762 - val_mean_absolute_error: 0.7762\n",
            "Epoch 89/100\n",
            "129/129 [==============================] - 0s 3ms/step - loss: 0.7066 - mean_absolute_error: 0.7066 - val_loss: 0.7869 - val_mean_absolute_error: 0.7869\n",
            "Epoch 90/100\n",
            "129/129 [==============================] - 0s 2ms/step - loss: 0.7065 - mean_absolute_error: 0.7065 - val_loss: 0.7686 - val_mean_absolute_error: 0.7686\n",
            "Epoch 91/100\n",
            "129/129 [==============================] - 0s 2ms/step - loss: 0.7054 - mean_absolute_error: 0.7054 - val_loss: 0.7687 - val_mean_absolute_error: 0.7687\n",
            "Epoch 92/100\n",
            "129/129 [==============================] - 0s 2ms/step - loss: 0.7068 - mean_absolute_error: 0.7068 - val_loss: 0.7604 - val_mean_absolute_error: 0.7604\n",
            "Epoch 93/100\n",
            "129/129 [==============================] - 0s 2ms/step - loss: 0.7014 - mean_absolute_error: 0.7014 - val_loss: 0.7592 - val_mean_absolute_error: 0.7592\n",
            "Epoch 94/100\n",
            "129/129 [==============================] - 0s 2ms/step - loss: 0.6982 - mean_absolute_error: 0.6982 - val_loss: 0.7550 - val_mean_absolute_error: 0.7550\n",
            "Epoch 95/100\n",
            "129/129 [==============================] - 0s 2ms/step - loss: 0.6991 - mean_absolute_error: 0.6991 - val_loss: 0.7561 - val_mean_absolute_error: 0.7561\n",
            "Epoch 96/100\n",
            "129/129 [==============================] - 0s 2ms/step - loss: 0.6971 - mean_absolute_error: 0.6971 - val_loss: 0.7527 - val_mean_absolute_error: 0.7527\n",
            "Epoch 97/100\n",
            "129/129 [==============================] - 0s 3ms/step - loss: 0.6941 - mean_absolute_error: 0.6941 - val_loss: 0.7491 - val_mean_absolute_error: 0.7491\n",
            "Epoch 98/100\n",
            "129/129 [==============================] - 0s 2ms/step - loss: 0.6926 - mean_absolute_error: 0.6926 - val_loss: 0.7549 - val_mean_absolute_error: 0.7549\n",
            "Epoch 99/100\n",
            "129/129 [==============================] - 0s 2ms/step - loss: 0.6906 - mean_absolute_error: 0.6906 - val_loss: 0.7466 - val_mean_absolute_error: 0.7466\n",
            "Epoch 100/100\n",
            "129/129 [==============================] - 0s 2ms/step - loss: 0.6898 - mean_absolute_error: 0.6898 - val_loss: 0.7521 - val_mean_absolute_error: 0.7521\n"
          ]
        },
        {
          "output_type": "execute_result",
          "data": {
            "text/plain": [
              "<keras.callbacks.History at 0x7f07c864d450>"
            ]
          },
          "metadata": {},
          "execution_count": 13
        }
      ]
    },
    {
      "cell_type": "code",
      "source": [
        "base_model_prediction=base_model.predict(x_test)\n",
        "base_model_prediction"
      ],
      "metadata": {
        "colab": {
          "base_uri": "https://localhost:8080/"
        },
        "id": "EsOxFOR7KcdZ",
        "outputId": "537d3b5c-7126-4f16-877d-5476f8ec5f54"
      },
      "execution_count": 14,
      "outputs": [
        {
          "output_type": "stream",
          "name": "stdout",
          "text": [
            "41/41 [==============================] - 0s 1ms/step\n"
          ]
        },
        {
          "output_type": "execute_result",
          "data": {
            "text/plain": [
              "array([[9.384758],\n",
              "       [8.010973],\n",
              "       [6.294286],\n",
              "       ...,\n",
              "       [8.331946],\n",
              "       [6.715678],\n",
              "       [5.99976 ]], dtype=float32)"
            ]
          },
          "metadata": {},
          "execution_count": 14
        }
      ]
    },
    {
      "cell_type": "code",
      "source": [
        "from sklearn.metrics import mean_squared_error\n",
        "mse = mean_squared_error(y_test, base_model_prediction)\n",
        "rmse = mean_squared_error(y_test, base_model_prediction, squared=False)\n",
        "mse, rmse"
      ],
      "metadata": {
        "colab": {
          "base_uri": "https://localhost:8080/"
        },
        "id": "4IQKJnemKhaR",
        "outputId": "cdca8f72-c9eb-4dc2-9473-36773d5a5506"
      },
      "execution_count": 15,
      "outputs": [
        {
          "output_type": "execute_result",
          "data": {
            "text/plain": [
              "(1.6041256168074534, 1.2665408073992142)"
            ]
          },
          "metadata": {},
          "execution_count": 15
        }
      ]
    },
    {
      "cell_type": "markdown",
      "source": [
        "### Accuracy ANN"
      ],
      "metadata": {
        "id": "YeeuqwDgcJ6V"
      }
    },
    {
      "cell_type": "code",
      "source": [
        "from sklearn.metrics import *\n",
        "from sklearn.model_selection import cross_val_score\n",
        "\n",
        "\n",
        "r2_score(y_test,base_model_prediction)\n",
        "\n",
        "\n",
        "print(f'MSE: {mean_squared_error(y_test, base_model_prediction)}')\n",
        "print(f'RMSE: {mean_squared_error(y_test, base_model_prediction, squared=False)}')\n",
        "print(f'MAE: {mean_absolute_error(y_test,base_model_prediction)}')\n",
        "print(f'R2 : {round(r2_score(y_test,base_model_prediction)*100,2)} %')"
      ],
      "metadata": {
        "id": "ID76ptFht8ZA",
        "outputId": "8eb9edd4-fed1-4980-d357-746c97073216",
        "colab": {
          "base_uri": "https://localhost:8080/"
        }
      },
      "execution_count": 16,
      "outputs": [
        {
          "output_type": "stream",
          "name": "stdout",
          "text": [
            "MSE: 1.6041256168074534\n",
            "RMSE: 1.2665408073992142\n",
            "MAE: 0.7290973291789827\n",
            "R2 : 54.68 %\n"
          ]
        }
      ]
    },
    {
      "cell_type": "markdown",
      "source": [
        "### Rest Accuracy:"
      ],
      "metadata": {
        "id": "rbtknNeWcUof"
      }
    },
    {
      "cell_type": "code",
      "source": [
        "from sklearn.neighbors import KNeighborsRegressor\n",
        "#from sklearn.naive_bayes import GaussianNB\n",
        "from sklearn.ensemble import RandomForestRegressor\n",
        "from sklearn.linear_model import LinearRegression,Lasso,Ridge,ElasticNet\n",
        "from sklearn.linear_model import LassoCV ,RidgeCV , ElasticNetCV\n",
        "from sklearn.tree import DecisionTreeRegressor\n",
        "from sklearn.ensemble import GradientBoostingRegressor\n",
        "from sklearn.metrics import *\n",
        "from sklearn.model_selection import cross_val_score"
      ],
      "metadata": {
        "id": "pGmDZlcobouB"
      },
      "execution_count": 17,
      "outputs": []
    },
    {
      "cell_type": "code",
      "source": [
        "def model(y_test,y_train,x_test,x_train,model):\n",
        "    \n",
        "    model1 = model()\n",
        "    model1.fit(x_train,y_train)\n",
        "    y_pred = model1.predict(x_test)\n",
        "    r2_score(y_test,y_pred)\n",
        "    print('-----------------')\n",
        "    print(model)\n",
        "    print('-----------------')\n",
        "    print(f'MSE: {mean_squared_error(y_test,y_pred)}')\n",
        "    print(f'RMSE: {mean_squared_error(y_test, base_model_prediction, squared=False)}')\n",
        "    print(f'MAE: {mean_absolute_error(y_test,y_pred)}')\n",
        "    print(f'R2 : {round(r2_score(y_test,y_pred)*100,2)} %')"
      ],
      "metadata": {
        "id": "HC5sgaS2bsSl"
      },
      "execution_count": 21,
      "outputs": []
    },
    {
      "cell_type": "code",
      "source": [
        "x = [model(y_test,y_train,x_test,x_train,i) for i in [LinearRegression,Lasso,Ridge,ElasticNet,RandomForestRegressor,DecisionTreeRegressor,KNeighborsRegressor,GradientBoostingRegressor]]\n",
        "x"
      ],
      "metadata": {
        "colab": {
          "base_uri": "https://localhost:8080/"
        },
        "id": "BcvafR1Zbwc7",
        "outputId": "a773177f-e2af-4bd3-ecf6-a068f7c22ec2"
      },
      "execution_count": 22,
      "outputs": [
        {
          "output_type": "stream",
          "name": "stdout",
          "text": [
            "-----------------\n",
            "<class 'sklearn.linear_model._base.LinearRegression'>\n",
            "-----------------\n",
            "MSE: 2.9970614570697913\n",
            "RMSE: 1.2665408073992142\n",
            "MAE: 1.1836742797262898\n",
            "R2 : 15.32 %\n",
            "-----------------\n",
            "<class 'sklearn.linear_model._coordinate_descent.Lasso'>\n",
            "-----------------\n",
            "MSE: 3.539452250841185\n",
            "RMSE: 1.2665408073992142\n",
            "MAE: 1.2981990539245785\n",
            "R2 : -0.0 %\n",
            "-----------------\n",
            "<class 'sklearn.linear_model._ridge.Ridge'>\n",
            "-----------------\n",
            "MSE: 2.9970431498647794\n",
            "RMSE: 1.2665408073992142\n",
            "MAE: 1.1836454090624395\n",
            "R2 : 15.32 %\n",
            "-----------------\n",
            "<class 'sklearn.linear_model._coordinate_descent.ElasticNet'>\n",
            "-----------------\n",
            "MSE: 3.4883918616994607\n",
            "RMSE: 1.2665408073992142\n",
            "MAE: 1.285543946751734\n",
            "R2 : 1.44 %\n",
            "-----------------\n",
            "<class 'sklearn.ensemble._forest.RandomForestRegressor'>\n",
            "-----------------\n",
            "MSE: 0.026331089721833636\n",
            "RMSE: 1.2665408073992142\n",
            "MAE: 0.0524614452214458\n",
            "R2 : 99.26 %\n",
            "-----------------\n",
            "<class 'sklearn.tree._classes.DecisionTreeRegressor'>\n",
            "-----------------\n",
            "MSE: 0.057897177156177176\n",
            "RMSE: 1.2665408073992142\n",
            "MAE: 0.03900310800310837\n",
            "R2 : 98.36 %\n",
            "-----------------\n",
            "<class 'sklearn.neighbors._regression.KNeighborsRegressor'>\n",
            "-----------------\n",
            "MSE: 0.4845544189588189\n",
            "RMSE: 1.2665408073992142\n",
            "MAE: 0.3633429681429682\n",
            "R2 : 86.31 %\n",
            "-----------------\n",
            "<class 'sklearn.ensemble._gb.GradientBoostingRegressor'>\n",
            "-----------------\n",
            "MSE: 0.19615387793747457\n",
            "RMSE: 1.2665408073992142\n",
            "MAE: 0.32789866006896845\n",
            "R2 : 94.46 %\n"
          ]
        },
        {
          "output_type": "execute_result",
          "data": {
            "text/plain": [
              "[None, None, None, None, None, None, None, None]"
            ]
          },
          "metadata": {},
          "execution_count": 22
        }
      ]
    }
  ]
}